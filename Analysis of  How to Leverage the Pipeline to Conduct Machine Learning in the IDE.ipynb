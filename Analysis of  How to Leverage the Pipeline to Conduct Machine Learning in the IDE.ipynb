<!DOCTYPE html>
<html>
<head>
<link href='i1.wp.com' rel='dns-prefetch'>
<link href='i2.wp.com' rel='dns-prefetch'>
<link href='i3.wp.com' rel='dns-prefetch'>

<script type="text/javascript">window.NREUM||(NREUM={});NREUM.info={"beacon":"bam.nr-data.net","errorBeacon":"bam.nr-data.net","licenseKey":"58cbea12ba","applicationID":"82594528","transactionName":"cF5XEUEJDQ9XF0tEBEBUWBdQDk4KXAEBTg==","queueTime":2,"applicationTime":49,"agent":""}</script>
<script type="text/javascript">window.NREUM||(NREUM={}),__nr_require=function(e,n,t){function r(t){if(!n[t]){var o=n[t]={exports:{}};e[t][0].call(o.exports,function(n){var o=e[t][1][n];return r(o||n)},o,o.exports)}return n[t].exports}if("function"==typeof __nr_require)return __nr_require;for(var o=0;o<t.length;o++)r(t[o]);return r}({1:[function(e,n,t){function r(){}function o(e,n,t){return function(){return i(e,[c.now()].concat(u(arguments)),n?null:this,t),n?void 0:this}}var i=e("handle"),a=e(3),u=e(4),f=e("ee").get("tracer"),c=e("loader"),s=NREUM;"undefined"==typeof window.newrelic&&(newrelic=s);var p=["setPageViewName","setCustomAttribute","setErrorHandler","finished","addToTrace","inlineHit","addRelease"],d="api-",l=d+"ixn-";a(p,function(e,n){s[n]=o(d+n,!0,"api")}),s.addPageAction=o(d+"addPageAction",!0),s.setCurrentRouteName=o(d+"routeName",!0),n.exports=newrelic,s.interaction=function(){return(new r).get()};var m=r.prototype={createTracer:function(e,n){var t={},r=this,o="function"==typeof n;return i(l+"tracer",[c.now(),e,t],r),function(){if(f.emit((o?"":"no-")+"fn-start",[c.now(),r,o],t),o)try{return n.apply(this,arguments)}catch(e){throw f.emit("fn-err",[arguments,this,e],t),e}finally{f.emit("fn-end",[c.now()],t)}}}};a("actionText,setName,setAttribute,save,ignore,onEnd,getContext,end,get".split(","),function(e,n){m[n]=o(l+n)}),newrelic.noticeError=function(e,n){"string"==typeof e&&(e=new Error(e)),i("err",[e,c.now(),!1,n])}},{}],2:[function(e,n,t){function r(e,n){if(!o)return!1;if(e!==o)return!1;if(!n)return!0;if(!i)return!1;for(var t=i.split("."),r=n.split("."),a=0;a<r.length;a++)if(r[a]!==t[a])return!1;return!0}var o=null,i=null,a=/Version\/(\S+)\s+Safari/;if(navigator.userAgent){var u=navigator.userAgent,f=u.match(a);f&&u.indexOf("Chrome")===-1&&u.indexOf("Chromium")===-1&&(o="Safari",i=f[1])}n.exports={agent:o,version:i,match:r}},{}],3:[function(e,n,t){function r(e,n){var t=[],r="",i=0;for(r in e)o.call(e,r)&&(t[i]=n(r,e[r]),i+=1);return t}var o=Object.prototype.hasOwnProperty;n.exports=r},{}],4:[function(e,n,t){function r(e,n,t){n||(n=0),"undefined"==typeof t&&(t=e?e.length:0);for(var r=-1,o=t-n||0,i=Array(o<0?0:o);++r<o;)i[r]=e[n+r];return i}n.exports=r},{}],5:[function(e,n,t){n.exports={exists:"undefined"!=typeof window.performance&&window.performance.timing&&"undefined"!=typeof window.performance.timing.navigationStart}},{}],ee:[function(e,n,t){function r(){}function o(e){function n(e){return e&&e instanceof r?e:e?f(e,u,i):i()}function t(t,r,o,i){if(!d.aborted||i){e&&e(t,r,o);for(var a=n(o),u=v(t),f=u.length,c=0;c<f;c++)u[c].apply(a,r);var p=s[y[t]];return p&&p.push([b,t,r,a]),a}}function l(e,n){h[e]=v(e).concat(n)}function m(e,n){var t=h[e];if(t)for(var r=0;r<t.length;r++)t[r]===n&&t.splice(r,1)}function v(e){return h[e]||[]}function g(e){return p[e]=p[e]||o(t)}function w(e,n){c(e,function(e,t){n=n||"feature",y[t]=n,n in s||(s[n]=[])})}var h={},y={},b={on:l,addEventListener:l,removeEventListener:m,emit:t,get:g,listeners:v,context:n,buffer:w,abort:a,aborted:!1};return b}function i(){return new r}function a(){(s.api||s.feature)&&(d.aborted=!0,s=d.backlog={})}var u="nr@context",f=e("gos"),c=e(3),s={},p={},d=n.exports=o();d.backlog=s},{}],gos:[function(e,n,t){function r(e,n,t){if(o.call(e,n))return e[n];var r=t();if(Object.defineProperty&&Object.keys)try{return Object.defineProperty(e,n,{value:r,writable:!0,enumerable:!1}),r}catch(i){}return e[n]=r,r}var o=Object.prototype.hasOwnProperty;n.exports=r},{}],handle:[function(e,n,t){function r(e,n,t,r){o.buffer([e],r),o.emit(e,n,t)}var o=e("ee").get("handle");n.exports=r,r.ee=o},{}],id:[function(e,n,t){function r(e){var n=typeof e;return!e||"object"!==n&&"function"!==n?-1:e===window?0:a(e,i,function(){return o++})}var o=1,i="nr@id",a=e("gos");n.exports=r},{}],loader:[function(e,n,t){function r(){if(!E++){var e=x.info=NREUM.info,n=l.getElementsByTagName("script")[0];if(setTimeout(s.abort,3e4),!(e&&e.licenseKey&&e.applicationID&&n))return s.abort();c(y,function(n,t){e[n]||(e[n]=t)}),f("mark",["onload",a()+x.offset],null,"api");var t=l.createElement("script");t.src="https://"+e.agent,n.parentNode.insertBefore(t,n)}}function o(){"complete"===l.readyState&&i()}function i(){f("mark",["domContent",a()+x.offset],null,"api")}function a(){return O.exists&&performance.now?Math.round(performance.now()):(u=Math.max((new Date).getTime(),u))-x.offset}var u=(new Date).getTime(),f=e("handle"),c=e(3),s=e("ee"),p=e(2),d=window,l=d.document,m="addEventListener",v="attachEvent",g=d.XMLHttpRequest,w=g&&g.prototype;NREUM.o={ST:setTimeout,SI:d.setImmediate,CT:clearTimeout,XHR:g,REQ:d.Request,EV:d.Event,PR:d.Promise,MO:d.MutationObserver};var h=""+location,y={beacon:"bam.nr-data.net",errorBeacon:"bam.nr-data.net",agent:"js-agent.newrelic.com/nr-1123.min.js"},b=g&&w&&w[m]&&!/CriOS/.test(navigator.userAgent),x=n.exports={offset:u,now:a,origin:h,features:{},xhrWrappable:b,userAgent:p};e(1),l[m]?(l[m]("DOMContentLoaded",i,!1),d[m]("load",r,!1)):(l[v]("onreadystatechange",o),d[v]("onload",r)),f("mark",["firstbyte",u],null,"api");var E=0,O=e(5)},{}]},{},["loader"]);</script>
<meta content='2HgX9mcLHaPOX6sfaaAkhWtblhEB9yUNw4l6l46e1k4' name='google-site-verification'>
<link rel="shortcut icon" type="image/x-icon" href="https://www.quantopian.com/assets/logos/favicon-q-ac1a76f2c200e9026b5b1147519bb4fab6256910588b831e2411bc6c7c1218c3.png" />
<title>
Notebooks
</title>
<link rel="stylesheet" media="all" href="https://www.quantopian.com/assets/quanto-base-bundle-8dc44a9aa5e36c2c11165bd2b17e629202202ed6ad7f96cfb6de8f9748ae3e9e.css" />
<link rel="stylesheet" media="all" href="https://www.quantopian.com/assets/research-index-9142ad8760ada33286b2caad397e056aae3137e712b510eaa1dfbdef3685b87d.css" />
<script src="https://www.quantopian.com/assets/quanto_global-223e06fd5ca451c9917e5ebe3cef2afa3ef013de561b2a358d25946cb3654aca.js"></script>
<script src="https://www.quantopian.com/assets/research_bundle-33e26010812b4a1f4c09073bbe22227f80db175ef37cb4fb30e3f9a0d324b2c3.js"></script>
<link href='https://www.quantopian.com/assets/logos/logo-q-180x180-0f5a6a439c99203ed4aea6f656e7604c543d287be43d8b17c7591c1131f09a59.png' rel='apple-touch-icon'>
<meta name="csrf-param" content="authenticity_token" />
<meta name="csrf-token" content="cW1jar7c/4gz1EdveI7oiNZ4Pd2ilCyspv0s4yaiiOPUWGy5hsXNqscLyriH904jVpO2WTNais+FYxmNCeImmw==" />
<meta content='width=device-width, initial-scale=1.0' name='viewport'>
<script>
//<![CDATA[
window.quanto_data={};quanto_data.bounce_back_params={"show_modal":null,"feedback_text":null};quanto_data.namespace="public";quanto_data.check_third_party_cookies=false;quanto_data.research_logout_url="https://research-i-0c4eba2eb3dd600a5.prd.int.dynoquant.com/hub/logout";quanto_data.user_shutdown_url="https://research-i-0c4eba2eb3dd600a5.prd.int.dynoquant.com/hub/shutdown_user";
//]]>
</script>
<script src="https://www.quantopian.com/assets/application_markdown-f5efa6d99561fd8b4813f9565bade960c520d6d7748dba1f1d7d73e3b4c14754.js"></script>

<input type="hidden" name="user_id" id="current_user_id" value="5578ccc48fd93c0c2e0008c2" />
<input type="hidden" name="env" id="quanto-env" value="production" />
<meta content='550580758292093' property='fb:app_id'>
<meta content='https://www.quantopian.com/research/notebooks/Analysis%20of%20%20How%20to%20Leverage%20the%20Pipeline%20to%20Conduct%20Machine%20Learning%20in%20the%20IDE.ipynb' property='og:url'>
<meta content='https://media.quantopian.com/public/og-image-default.png' property='og:image'>
<meta content='Notebooks' property='og:title'>
<meta content='Quantopian is a free online platform for education and creation of investment algorithms. Selected algorithms get capital backing from Quantopian. Quantopian offers access to deep financial data, powerful research capabilities, university-level education tools, and a backtester.' property='og:description'>
</head>
<script type='application/ld+json'>
  {
    "@context": "http://schema.org",
    "@type": "Organization",
    "url": "https://www.quantopian.com",
    "logo": "https://media.quantopian.com/logos/logo-q-press-red.png"
  }
</script>
<body class='full-screen notebook' ontouchstart=''>
<div id='fb-root'></div>
<div class='wrapper'>
<div class='navbar navbar-default small-nav navbar-static-top' id='app-navbar'>
<div class='container-fluid'>
<div class='navbar-header'>
<button class='navbar-toggle collapsed' data-target='#app-navbar-collapse' data-toggle='collapse'>
<span class='icon hamburger-menu'></span>
</button>
<a class='navbar-brand' href='/home'>
<img class='logo-image async-image' data-src='https://www.quantopian.com/assets/logos/logo-q-white-b141ea6018546e5a4ecc3d10d8440ec076fc4385764e948b322828cc70950a76.svg'>
</a>
</div>
<div class='collapse navbar-collapse' id='app-navbar-collapse'>
<ul class='nav navbar-nav navbar-right'>
<li>
<a class='header' href='/allocation'>Get Funded</a>
</li>
<li class='dropdown quanto-dropdown-new'>
<a class='header' data-toggle='dropdown' href='#' id='research-nav-header'>
Research
</a>
<ul class='dropdown-menu quanto-dropdown-new'>
<li>
<a href='/notebooks'>Notebooks</a>
</li>
<li>
<a href='/algorithms'>Algorithms</a>
</li>
</ul>
</li>
<li>
<a class='header' href='/contest'>Contest</a>
</li>
<li class='dropdown quanto-dropdown-new'>
<a class='header' data-toggle='dropdown' href='#'>
Community
</a>
<ul class='dropdown-menu'>
<li>
<a class='' href='/posts' id='community-header-link'>Forums</a>
</li>
<li>
<a href='/events'>Events</a>
</li>
</ul>
</li>
<li class='dropdown quanto-dropdown-new'>
<a class='header' data-toggle='dropdown' href='#'>
Learn
</a>
<ul class='dropdown-menu'>
<li>
<a class='mixpanel-button' data-event='main nav getting started clicked' href='/tutorials/getting-started'>Getting Started</a>
</li>
<li>
<a class='mixpanel-button' data-event='main nav tutorials clicked' href='/tutorials'>Tutorials</a>
</li>
<li>
<a class='mixpanel-button' data-event='main nav lectures clicked' href='/lectures'>Lectures</a>
</li>
</ul>
</li>
<li class='dropdown quanto-dropdown-new right-dropdown'>
<a class='header help-dropdown' data-toggle='dropdown' href='#' id='help-nav-header'>
Help
</a>
<ul class='dropdown-menu'>
<li>
<a href='/faq'>FAQ</a>
</li>
<li>
<a href='/help'>API Reference</a>
</li>
<li>
<a href='/docs/data-reference/overview' id='navbar-data-link'>Data Reference</a>
</li>
<li>
<a class='open-feedback-link' href='#'>Contact Support</a>
</li>
</ul>
</li>
<li class='user-dropdown dropdown quanto-dropdown-new'>
<a class='header avatar-link' data-toggle='dropdown' href='#'>
<img class='async-image navbar-avatar' data-src='https://secure.gravatar.com/avatar/7863e091ea0a3aabca6478875fffb442?d=https%3A%2F%2Fs3.amazonaws.com%2Fquantopian-website-assets%2Fdefault-avatar.png&amp;s=40' id='header-avatar-link'>
<span class='visible-sm-inline visible-xs-inline'>
German Hernandez
</span>
</a>
<ul class='dropdown-menu'>
<li class='hidden-sm hidden-xs'>
<a href="/users/5578ccc48fd93c0c2e0008c2">German Hernandez
</a></li>
<li class='visible-sm visible-xs'>
<a href="/users/5578ccc48fd93c0c2e0008c2">Profile
</a></li>
<li class='account-settings'>
<a href='/account'>Account Settings</a>
</li>
<li class='hidden-sm hidden-xs'><a id="header-logout-link" rel="nofollow" data-method="post" href="/signout">Sign Out</a></li>
</ul>
</li>
<li class='visible-sm visible-xs'>
<a data-method='post' href='/signout' id='header-logout-link'>
<span class='sign-out'>Sign Out</span>
</a>
</li>

</ul>
</div>
</div>
</div>
<script>
  $(document).ready(function () {
    quanto.instances.fm = new quanto.FeedbackManager();
    quanto.instances.hm = new quanto.headerManager();
  })
</script>


<div class='content content-area new-style'>
<div data-research-host-url='https://research-i-0c4eba2eb3dd600a5.prd.int.dynoquant.com' data-show-notebook-tour='false' data-user-id='5578ccc48fd93c0c2e0008c2' id='research-data'></div>
<div class='update-research-banner alert-v2 maybe-error hidden'>
<div class='restart-message'>
An update is available for research. <span class='fake-link' id='user-shutdown-link'>Update now.</span> WARNING: doing so will shut down <strong>all</strong> of your running notebooks.
</div>
</div>
<div class='loading-research-spinner'>
<div class='loading-message'>
<div class='quanto-loader gray'></div>
</div>
</div>
<iframe id='nb-iframe' src='https://research-i-0c4eba2eb3dd600a5.prd.int.dynoquant.com/user/5578ccc48fd93c0c2e0008c2/notebooks/Analysis%20of%20%20How%20to%20Leverage%20the%20Pipeline%20to%20Conduct%20Machine%20Learning%20in%20the%20IDE.ipynb'></iframe>
<div class='fade quanto-modal-v2 modal' data-step='0' id='intro-modal' role='dialog'>
<div class='modal-dialog'>
<div class='modal-x-out'></div>
<div class='modal-content'>
<div class='modal-body'>
<div class='modal-area step0'>
<div class='title-text'>
New to research notebooks?
</div>
<div class='subtitle-text'>
We've created a simple introduction to highlight the value of research
notebooks and how they tie to Quantopian.
</div>
</div>
<div class='modal-area step1'>
<div class='step1-image'></div>
<div class='title-text'>
Unlimited access to data
</div>
<div class='subtitle-text'>
Unlimited access to all of Quantopian's data which you can sift through
to detect and transform signals into algorithms.
</div>
</div>
<div class='modal-area step2'>
<div class='step2-image'></div>
<div class='title-text'>
Plotting and analysis
</div>
<div class='subtitle-text'>
Extensive plotting, visualization, and statistical analysis tools to research
strategies and evaluate their effectiveness.
</div>
</div>
<div class='modal-area step3'>
<div class='step3-image'></div>
<div class='title-text'>
Flexible environment
</div>
<div class='subtitle-text'>
Find patterns and signals by assembling and evaluating data without restrictions or limitations.
</div>
</div>
</div>
<div class='modal-footer'>
<div class='step0'>
<button class='btn btn-link' data-dismiss='modal'>I&#39;m all set</button>
<button class='btn btn-sm new-btn blue next'>Let&#39;s Go</button>
</div>
<div class='button-row step1'>
<button class='btn btn-sm new-btn light-grey prev'>Previous</button>
<div class='step-label'>1 of 3</div>
<button class='btn btn-sm new-btn blue next'>Next</button>
</div>
<div class='button-row step2'>
<button class='btn btn-sm new-btn light-grey prev'>Previous</button>
<div class='step-label'>2 of 3</div>
<button class='btn btn-sm new-btn blue next'>Next</button>
</div>
<div class='button-row step3'>
<button class='btn btn-sm new-btn light-grey prev'>Previous</button>
<div class='step-label'>3 of 3</div>
<button class='btn btn-sm new-btn blue done next'>Done</button>
</div>
</div>
</div>
</div>
<div class='step4'>
<div class='container'>
<div class='row'>
<div class='col-md-14'>
<button class='btn new-btn blue fade' data-toggle='popover' id='new-notebook'>
<span class='quanto-icon icon-add'></span>
</button>
</div>
</div>
</div>
</div>
</div>

<script>
  $(document).ready(function() {
    quanto.instances.research_mgr = new quanto.ResearchManager();
  });
</script>

<div class='fade modal quanto-modal-v2' id='error-modal' role='dialog' tabindex='-1'>
<div class='modal-dialog' role='document'>
<div class='modal-content'>
<div class='modal-header'>
<span class='title modal-title'>Error</span>
</div>
<div class='modal-body body-content'>
<p>Sorry, something went wrong.  Try again or contact us by <a class='feedback-link'>sending feedback</a>.</p>
</div>
<div class='modal-footer'>
<button class='btn btn-v2 blue action-button' data-dismiss='modal' href='#'>Close</button>
</div>

</div>
</div>
</div>

<div class='fade modal quanto-modal-v2' id='confirmation-modal' role='dialog' tabindex='-1'>
<div class='modal-dialog' role='document'>
<div class='modal-content'>
<div class='modal-header'>
<span class='title modal-title'></span>
</div>
<div class='modal-body body-content'></div>
<div class='modal-footer'>
<div class='pull-right'>
<button class='btn btn-v2 border' data-dismiss='modal'>Cancel</button>
<button class='btn btn-v2 blue action-button' data-dismiss='modal'></button>
</div>
</div>

</div>
</div>
</div>

<div class='fade modal quanto-modal-v2' id='message-modal' role='dialog' tabindex='-1'>
<div class='modal-dialog' role='document'>
<div class='modal-content'>
<div class='modal-header'>
<span class='title modal-title'></span>
</div>
<div class='modal-body body-content'></div>
<div class='modal-footer'>
<button class='btn btn-v2 blue action-button' data-dismiss='modal' id='message-modal-close'>Close</button>
</div>

</div>
</div>
</div>

<div class='always-bootstrap3-modals'>
<div class='fade modal quanto-modal-v2' id='feedback-modal' role='dialog' tabindex='-1'>
<div class='modal-dialog' role='document'>
<div class='modal-content'>
<div class='modal-header'>
<span class='title'>Contact Support</span>
</div>
<div class='modal-body'>
<form class='controls quanto-form-v2' id='feedback-form'>
<div class='feedback-inputs'>
<div class='form-group'>
<textarea autofocus class='form-control' id='feedback-box' name='feedback' placeholder='What may we help you with?' rows='10'></textarea>
</div>
<div class='checkbox specific-resource'>
<input id='specific-resource-checkbox' type='checkbox'>
<div class='quanto-checkbox'></div>
<label for='specific-resource-checkbox' id='specific-resource-label'>
I need help with a specific algorithm, backtest, live algorithm, or notebook.
</label>
</div>
</div>
</form>
<form class='hidden quanto-form-v2 select-resource-area'>
<div class='select-step select-type-step'>
<div class='form-group'>
<select class='form-control select-resource-dropdown' title='Select the item you need help with'>
<option value='algorithm'>Algorithm</option>
<option value='backtest'>Backtest</option>
<option value='live_algorithm'>Live Algorithm</option>
<option value='notebook'>Notebook</option>
</select>
</div>
</div>
<div class='select-step loading-area hidden'>
<div class='loading-text'>
Loading...
</div>
</div>
<div class='select-step empty-list-area hidden'>
<div class='back-button'>Go Back</div>
<div class='empty-text'>
No <span class='empty-list-resource-text'>algorithms</span> found
</div>
</div>
<div class='select-algo-area select-step hidden'>
<div class='back-button'>Go Back</div>
<table class='select-algo-table select-item-table'>
<thead>
<tr>
<th>
Algorithm
<span class='sort-icon'></span>
</th>
<th>
Last Modified
<span class='sort-icon'></span>
</th>
</tr>
</thead>
</table>
</div>
<div class='select-backtest-area select-step hidden'>
<div class='back-button'>Go Back</div>
<table class='select-backtest-table select-item-table'>
<thead>
<tr>
<th>
Backtest
<span class='sort-icon'></span>
</th>
<th>
Started At
<span class='sort-icon'></span>
</th>
<th>
Overall Return
<span class='sort-icon'></span>
</th>
<th>
Status
<span class='sort-icon'></span>
</th>
</tr>
</thead>
</table>
</div>
<div class='select-live-algo-area select-step hidden'>
<div class='back-button'>Go Back</div>
<table class='select-live-algo-table select-item-table'>
<thead>
<tr>
<th>
Live Algorithm
<span class='sort-icon'></span>
</th>
<th>
Started At
<span class='sort-icon'></span>
</th>
</tr>
</thead>
</table>
</div>
<div class='select-notebook-area select-step hidden'>
<div class='back-button'>Go Back</div>
<div class='subtitle select-cell-step'>
Choose a cell to use as the preview for this notebook:
</div>
<div class='iframe-wrapper'>
<iframe class='notebook-list-iframe slow-fade' src=''></iframe>
</div>
<div class='progress-area slow-fade in'>
<div class='progress-container'>
<div class='progress-title'>
<div class='quanto-loader gray'></div>
</div>
</div>
</div>
<div class='maintenance-area'>
<div class='error-container'>
<div class='row'>
<div class='col-md-14 msg-title h1'>
Sorry, research is currently undergoing maintenance.
</div>
</div>
<div class='row'>
<div class='col-md-14 msg-subtitle'>
Please check back shortly. If the maintenance period lasts longer than expected,
you can find updates on <a href='https://status.quantopian.com/'>status.quantopian.com</a>.
</div>
</div>

</div>
</div>
<div class='error-area'>
<div class='error-container'>
<div class='row'>
<div class='col-md-14 msg-title h1'>
Sorry, something went wrong on our end.
</div>
</div>
<div class='row'>
<div class='col-md-14 msg-subtitle'>
Please try again or contact <a class='open-feedback-link'>Quantopian support</a>.
</div>
</div>

</div>
</div>

</div>
<div class='selected-item-area select-step hidden'>
<div class='selected-item-group form-group'>
<div class='selected-item-control'>
<input class='disabled form-control selected-item-box' type='text'>
<span class='secure-icon icon'></span>
<button class='btn change change-primary-item-button change-selection-button new-btn transparent' type='button'>
<span class='refresh-icon icon'></span>
</button>
</div>
<div class='selected-backtest-control'>
<input class='disabled form-control selected-backtest-box' type='text'>
<span class='secure-icon icon'></span>
<button class='btn change-backtest-button change-selection-button new-btn transparent' type='button'>
<span class='refresh-icon icon'></span>
</button>
</div>
</div>
<div class='checkbox-group form-group'>
<div class='checkbox give-permission'>
<input class='give-permission-checkbox' id='feedback-give-permission-checkbox' type='checkbox'>
<div class='quanto-checkbox'></div>
<label for='feedback-give-permission-checkbox'>
I permit Quantopian to view <span class='item-type-text'>this algorithm,
backtest or notebook and their imported datasets</span> for the purpose of providing support.
</label>
</div>
</div>
</div>
</form>

<div class='loading-step hidden'>
<div class='loading-text'>
Submitting your support ticket...
</div>
</div>
<div class='success-step invisible'>
<h2 class='title center'>
You've successfully submitted a support ticket.
</h2>
<p>
Our support team will be in touch soon.
</p>
<div class='confirmation-image'></div>
</div>
</div>
<div class='modal-footer'>
<button class='btn-v2 blue' id='send-feedback-button'>Send</button>
<div class='error-message hidden'>
Error submitting support request.
</div>
</div>

</div>
</div>
</div>

</div>
</div>
<div class='footer' id='quanto-footer-container'>
<div class='container'>
<div class='row header-row'>
<div class='col-sm-fourth span3'>
<img class='async-image logotype-image' data-src='https://www.quantopian.com/assets/logos/logo-q-full-b23bda5ac757691b9259d396d0dfef91567165868b8c955a836649686e6d2248.svg'>
</div>
<div class='col-sm-fourth span3'></div>
<div class='col-sm-fourth span3'></div>
<div class='col-sm-fourth span3'>
<div class='feedback-email'>
Need Help?
<a class='open-feedback-link'>Contact Support</a>
</div>
</div>
</div>
<div class='row'>
<div class='col-sm-fourth span3'>
<div class='header'>Company</div>
<div class='footer-row'>
<a href='/about'>About</a>
</div>
<div class='footer-row'>
<a href='/academia'>Academia</a>
</div>
<div class='footer-row'>
<a href='/allocations'>Capital Allocations</a>
</div>
<div class='footer-row'>
<a href='/jobs'>Careers</a>
</div>
<div class='footer-row'>
<a href='/posts'>Community</a>
</div>
<div class='footer-row'>
<a href='/events'>Events</a>
</div>
<div class='footer-row'>
<a href='/investor_relations'>Investor Relations</a>
</div>
</div>
<div class='col-sm-fourth span3'>
<div class='header'>Learn &amp; Support</div>
<div class='footer-row'>
<a href='/faq'>FAQs</a>
</div>
<div class='footer-row'>
<a href='/tutorials/getting-started'>Getting Started</a>
</div>
<div class='footer-row'>
<a href='/help'>Help &amp; API docs</a>
</div>
<div class='footer-row'>
<a href='/tutorials'>Tutorials</a>
</div>
<div class='footer-row'>
<a href='/lectures'>Lectures</a>
</div>
<div class='footer-row'>
<a href='/opensource'>Open Source</a>
</div>
<div class='footer-row'>
<a href='https://status.quantopian.com/'>Site Status</a>
</div>
</div>
<div class='col-sm-fourth span3'>
<div class='header'>Notices</div>
<div class='footer-row'>
<a href='/policies/terms'>Terms of Use</a>
</div>
<div class='footer-row'>
<a href='/policies/privacy'>Privacy Policy</a>
</div>
<div class='footer-row'>
<a href='/security'>Security</a>
</div>
<div class='footer-row'>
<a href='/policies/code-of-conduct'>Code of Conduct</a>
</div>
</div>
<div class='col-sm-fourth span3'>
<div class='header'>Follow Us</div>
<div class='footer-row'>
<a href='https://www.twitter.com/quantopian'>Twitter</a>
</div>
<div class='footer-row'>
<a href='https://www.facebook.com/quantopian'>Facebook</a>
</div>
<div class='footer-row'>
<a href='https://www.linkedin.com/company/quantopian'>LinkedIn</a>
</div>
<div class='footer-row'>
<a href='https://www.youtube.com/channel/UC606MUq45P3zFLa4VGKbxsg'>YouTube</a>
</div>
</div>
</div>
<div class='row'>
<div class='col-xs-14 span12'>
<div class='disclaimer'>
<p>
The material on this website is provided for informational purposes only and does not constitute an offer to sell, a solicitation to buy, or a recommendation or endorsement for any security or strategy, nor does it constitute an offer to provide investment advisory services by Quantopian.
</p>
<p>
In addition, the material offers no opinion with respect to the suitability of any security or specific investment. No information contained herein should be regarded as a suggestion to engage in or refrain from any investment-related course of action as none of Quantopian nor any of its affiliates is undertaking to provide investment advice, act as an adviser to any plan or entity subject to the Employee Retirement Income Security Act of 1974, as amended, individual retirement account or individual retirement annuity, or give advice in a fiduciary capacity with respect to the materials presented herein.  If you are an individual retirement or other investor, contact your financial advisor or other fiduciary unrelated to Quantopian about whether any given investment idea, strategy, product or service described herein may be appropriate for your circumstances.  All investments involve risk, including loss of principal.  Quantopian makes no guarantees as to the accuracy or completeness of the views expressed in the website. The views are subject to change, and may have become unreliable for various reasons, including changes in market conditions or economic circumstances.
</p>

</div>
</div>
</div>
</div>
</div>
<div class='mobile-footer'>
<div class='mobile-nav-category main-links'>
<div class='mobile-nav-row-footer'>
<a href='/about'>About Quantopian</a>
</div>
<div class='mobile-nav-row-footer'>
<a href='/jobs'>Careers</a>
</div>
<div class='mobile-nav-row-footer'>
<a href='/posts'>Community</a>
</div>
<div class='mobile-nav-row-footer'>
<a href='/events'>Events</a>
</div>
<div class='mobile-nav-row-footer'>
<a href='/help'>Help</a>
</div>
<div class='mobile-nav-row-footer'>
<a href='/academia'>Academia</a>
</div>
<div class='mobile-nav-row-footer'>
<a href='/lectures'>Lectures</a>
</div>
<div class='mobile-nav-row-footer'>
<a href='/investor_relations'>Investor Relations</a>
</div>
<div class='mobile-nav-row-footer'>
<a href='https://status.quantopian.com/'>Status</a>
</div>
<div class='mobile-nav-row-footer'>
<a href='https://www.facebook.com/quantopian'>Facebook</a>
</div>
<div class='mobile-nav-row-footer'>
<a href='https://www.twitter.com/quantopian'>Twitter</a>
</div>
<div class='mobile-nav-row-footer'>
<a href='https://www.linkedin.com/company/quantopian'>LinkedIn</a>
</div>
<div class='mobile-nav-row-footer'>
<a href='https://www.youtube.com/channel/UC606MUq45P3zFLa4VGKbxsg'>YouTube</a>
</div>
<div class='mobile-nav-row-footer'>
<a href='https://blog.quantopian.com/'>Blog</a>
</div>
<div class='mobile-nav-row-footer'>
<a href='/policies/terms'>Terms of Use</a>
</div>
<div class='mobile-nav-row-footer'>
<a href='/policies/privacy'>Privacy Policy</a>
</div>
</div>
<div class='mobile-nav-category'>
<div class='disclaimer'>
<p>
The material on this website is provided for informational purposes only and does not constitute an offer to sell, a solicitation to buy, or a recommendation or endorsement for any security or strategy, nor does it constitute an offer to provide investment advisory services by Quantopian.
</p>
<p>
In addition, the material offers no opinion with respect to the suitability of any security or specific investment. No information contained herein should be regarded as a suggestion to engage in or refrain from any investment-related course of action as none of Quantopian nor any of its affiliates is undertaking to provide investment advice, act as an adviser to any plan or entity subject to the Employee Retirement Income Security Act of 1974, as amended, individual retirement account or individual retirement annuity, or give advice in a fiduciary capacity with respect to the materials presented herein.  If you are an individual retirement or other investor, contact your financial advisor or other fiduciary unrelated to Quantopian about whether any given investment idea, strategy, product or service described herein may be appropriate for your circumstances.  All investments involve risk, including loss of principal.  Quantopian makes no guarantees as to the accuracy or completeness of the views expressed in the website. The views are subject to change, and may have become unreliable for various reasons, including changes in market conditions or economic circumstances.
</p>

</div>
</div>
</div>

</div>
</body>
<script>
  (function(i,s,o,g,r,a,m){i['GoogleAnalyticsObject']=r;i[r]=i[r]||function(){
  (i[r].q=i[r].q||[]).push(arguments)},i[r].l=1*new Date();a=s.createElement(o),
  m=s.getElementsByTagName(o)[0];a.async=1;a.src=g;m.parentNode.insertBefore(a,m)
  })(window,document,'script','//www.google-analytics.com/analytics.js','ga');
  ga('create', "UA-8519877-1", {
    cookieDomain: "quantopian.com"
  });
  ga('set', 'dimension1', 'session_5d016a736edbd0004af75705');
  ga('set', 'dimension2', '5578ccc48fd93c0c2e0008c2');
  ga('send', 'pageview');
</script>

<input type="hidden" name="is_mac" id="is_mac" value="false" />
<input type="hidden" name="mp" id="mp" value="75873953cd404bcc1da88a55ff51e3b4" />
<script>
  (function(e,a){if(!a.__SV){var b=window;try{var c,l,i,j=b.location,g=j.hash;c=function(a,b){return(l=a.match(RegExp(b+"=([^&]*)")))?l[1]:null};g&&c(g,"state")&&(i=JSON.parse(decodeURIComponent(c(g,"state"))),"mpeditor"===i.action&&(b.sessionStorage.setItem("_mpcehash",g),history.replaceState(i.desiredHash||"",e.title,j.pathname+j.search)))}catch(m){}var k,h;window.mixpanel=a;a._i=[];a.init=function(b,c,f){function e(b,a){var c=a.split(".");2==c.length&&(b=b[c[0]],a=c[1]);b[a]=function(){b.push([a].concat(Array.prototype.slice.call(arguments,
  0)))}}var d=a;"undefined"!==typeof f?d=a[f]=[]:f="mixpanel";d.people=d.people||[];d.toString=function(b){var a="mixpanel";"mixpanel"!==f&&(a+="."+f);b||(a+=" (stub)");return a};d.people.toString=function(){return d.toString(1)+".people (stub)"};k="disable time_event track track_pageview track_links track_forms register register_once alias unregister identify name_tag set_config reset opt_in_tracking opt_out_tracking has_opted_in_tracking has_opted_out_tracking clear_opt_in_out_tracking people.set people.set_once people.unset people.increment people.append people.union people.track_charge people.clear_charges people.delete_user".split(" ");
  for(h=0;h<k.length;h++)e(d,k[h]);a._i.push([b,c,f])};a.__SV=1.2;b=e.createElement("script");b.type="text/javascript";b.async=!0;b.src="undefined"!==typeof MIXPANEL_CUSTOM_LIB_URL?MIXPANEL_CUSTOM_LIB_URL:"file:"===e.location.protocol&&"//cdn.mxpnl.com/libs/mixpanel-2-latest.min.js".match(/^\/\//)?"https://cdn.mxpnl.com/libs/mixpanel-2-latest.min.js":"//cdn.mxpnl.com/libs/mixpanel-2-latest.min.js";c=e.getElementsByTagName("script")[0];c.parentNode.insertBefore(b,c)}})(document,window.mixpanel||[]);
  mixpanel.init("75873953cd404bcc1da88a55ff51e3b4");
</script>
<input type="hidden" name="mp_user" id="mp_user" value="{&quot;email&quot;:&quot;gjhernandezp@gmail.com&quot;,&quot;name&quot;:&quot;German Hernandez&quot;,&quot;id&quot;:&quot;5578ccc48fd93c0c2e0008c2&quot;}" />
<script>
  mixpanel.identify("5578ccc48fd93c0c2e0008c2");
</script>
<script>
  mixpanel.register({
    "$email": "gjhernandezp@gmail.com",
    "user_id": "5578ccc48fd93c0c2e0008c2",
    "is_enterprise": "false"
  });
  mixpanel.people.set({"$email": "gjhernandezp@gmail.com", "$name": "German Hernandez"});
</script>
<script>
  mixpanel.track("view page", {"page": window.location.pathname});
</script>
</html>
