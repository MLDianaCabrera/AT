{
 "cells": [
  {
   "cell_type": "code",
   "execution_count": 1,
   "metadata": {},
   "outputs": [
    {
     "ename": "ModuleNotFoundError",
     "evalue": "No module named 'quantopian'",
     "output_type": "error",
     "traceback": [
      "\u001b[1;31m---------------------------------------------------------------------------\u001b[0m",
      "\u001b[1;31mModuleNotFoundError\u001b[0m                       Traceback (most recent call last)",
      "\u001b[1;32m<ipython-input-1-658ede2fc87d>\u001b[0m in \u001b[0;36m<module>\u001b[1;34m\u001b[0m\n\u001b[0;32m      2\u001b[0m \u001b[1;33m\u001b[0m\u001b[0m\n\u001b[0;32m      3\u001b[0m \u001b[1;31m# Import Optimize API module\u001b[0m\u001b[1;33m\u001b[0m\u001b[1;33m\u001b[0m\u001b[1;33m\u001b[0m\u001b[0m\n\u001b[1;32m----> 4\u001b[1;33m \u001b[1;32mimport\u001b[0m \u001b[0mquantopian\u001b[0m\u001b[1;33m.\u001b[0m\u001b[0moptimize\u001b[0m \u001b[1;32mas\u001b[0m \u001b[0mopt\u001b[0m\u001b[1;33m\u001b[0m\u001b[1;33m\u001b[0m\u001b[0m\n\u001b[0m\u001b[0;32m      5\u001b[0m \u001b[1;33m\u001b[0m\u001b[0m\n\u001b[0;32m      6\u001b[0m \u001b[1;33m\u001b[0m\u001b[0m\n",
      "\u001b[1;31mModuleNotFoundError\u001b[0m: No module named 'quantopian'"
     ]
    }
   ],
   "source": [
    "#The first step is to define an objective. We will use MaximizeAlpha, which will attempt to allocate capital to assets proportional to their alpha scores.\n",
    "\n",
    "# Import Optimize API module\n",
    "import quantopian.optimize as opt\n",
    "\n",
    "\n",
    "def rebalance(context, data):\n",
    "  # Retrieve alpha from pipeline output\n",
    "  alpha = context.pipeline_data.sentiment_score\n",
    "\n",
    "  if not alpha.empty:\n",
    "      # Create MaximizeAlpha objective\n",
    "      objective = opt.MaximizeAlpha(alpha)"
   ]
  },
  {
   "cell_type": "code",
   "execution_count": 2,
   "metadata": {},
   "outputs": [
    {
     "ename": "NameError",
     "evalue": "name 'context' is not defined",
     "output_type": "error",
     "traceback": [
      "\u001b[1;31m---------------------------------------------------------------------------\u001b[0m",
      "\u001b[1;31mNameError\u001b[0m                                 Traceback (most recent call last)",
      "\u001b[1;32m<ipython-input-2-0ba160708322>\u001b[0m in \u001b[0;36m<module>\u001b[1;34m\u001b[0m\n\u001b[0;32m      1\u001b[0m \u001b[1;31m#Next, we need to specify the list of constraints that we want our target portfolio to satisfy. Let's start by defining some threshold values in initialize and store them in our context variable:\u001b[0m\u001b[1;33m\u001b[0m\u001b[1;33m\u001b[0m\u001b[1;33m\u001b[0m\u001b[0m\n\u001b[0;32m      2\u001b[0m \u001b[1;31m# Constraint parameters\u001b[0m\u001b[1;33m\u001b[0m\u001b[1;33m\u001b[0m\u001b[1;33m\u001b[0m\u001b[0m\n\u001b[1;32m----> 3\u001b[1;33m \u001b[0mcontext\u001b[0m\u001b[1;33m.\u001b[0m\u001b[0mmax_leverage\u001b[0m \u001b[1;33m=\u001b[0m \u001b[1;36m1.0\u001b[0m\u001b[1;33m\u001b[0m\u001b[1;33m\u001b[0m\u001b[0m\n\u001b[0m\u001b[0;32m      4\u001b[0m \u001b[0mcontext\u001b[0m\u001b[1;33m.\u001b[0m\u001b[0mmax_pos_size\u001b[0m \u001b[1;33m=\u001b[0m \u001b[1;36m0.015\u001b[0m\u001b[1;33m\u001b[0m\u001b[1;33m\u001b[0m\u001b[0m\n\u001b[0;32m      5\u001b[0m \u001b[0mcontext\u001b[0m\u001b[1;33m.\u001b[0m\u001b[0mmax_turnover\u001b[0m \u001b[1;33m=\u001b[0m \u001b[1;36m0.95\u001b[0m\u001b[1;33m\u001b[0m\u001b[1;33m\u001b[0m\u001b[0m\n",
      "\u001b[1;31mNameError\u001b[0m: name 'context' is not defined"
     ]
    }
   ],
   "source": [
    "#Next, we need to specify the list of constraints that we want our target portfolio to satisfy. Let's start by defining some threshold values in initialize and store them in our context variable:\n",
    "# Constraint parameters\n",
    "context.max_leverage = 1.0\n",
    "context.max_pos_size = 0.015\n",
    "context.max_turnover = 0.95"
   ]
  },
  {
   "cell_type": "code",
   "execution_count": 3,
   "metadata": {},
   "outputs": [],
   "source": [
    "#Now, we can specify our constraints in rebalance using the thresholds we defined above:"
   ]
  },
  {
   "cell_type": "code",
   "execution_count": 4,
   "metadata": {},
   "outputs": [
    {
     "ename": "ModuleNotFoundError",
     "evalue": "No module named 'quantopian'",
     "output_type": "error",
     "traceback": [
      "\u001b[1;31m---------------------------------------------------------------------------\u001b[0m",
      "\u001b[1;31mModuleNotFoundError\u001b[0m                       Traceback (most recent call last)",
      "\u001b[1;32m<ipython-input-4-2ed48a22b498>\u001b[0m in \u001b[0;36m<module>\u001b[1;34m\u001b[0m\n\u001b[0;32m      1\u001b[0m \u001b[1;31m# Import Optimize API module\u001b[0m\u001b[1;33m\u001b[0m\u001b[1;33m\u001b[0m\u001b[1;33m\u001b[0m\u001b[0m\n\u001b[1;32m----> 2\u001b[1;33m \u001b[1;32mimport\u001b[0m \u001b[0mquantopian\u001b[0m\u001b[1;33m.\u001b[0m\u001b[0moptimize\u001b[0m \u001b[1;32mas\u001b[0m \u001b[0mopt\u001b[0m\u001b[1;33m\u001b[0m\u001b[1;33m\u001b[0m\u001b[0m\n\u001b[0m\u001b[0;32m      3\u001b[0m \u001b[1;33m\u001b[0m\u001b[0m\n\u001b[0;32m      4\u001b[0m \u001b[1;33m\u001b[0m\u001b[0m\n\u001b[0;32m      5\u001b[0m \u001b[1;32mdef\u001b[0m \u001b[0mrebalance\u001b[0m\u001b[1;33m(\u001b[0m\u001b[0mcontext\u001b[0m\u001b[1;33m,\u001b[0m \u001b[0mdata\u001b[0m\u001b[1;33m)\u001b[0m\u001b[1;33m:\u001b[0m\u001b[1;33m\u001b[0m\u001b[1;33m\u001b[0m\u001b[0m\n",
      "\u001b[1;31mModuleNotFoundError\u001b[0m: No module named 'quantopian'"
     ]
    }
   ],
   "source": [
    "# Import Optimize API module\n",
    "import quantopian.optimize as opt\n",
    "\n",
    "\n",
    "def rebalance(context, data):\n",
    "  # Retrieve alpha from pipeline output\n",
    "  alpha = context.pipeline_data.sentiment_score\n",
    "\n",
    "  if not alpha.empty:\n",
    "      # Create MaximizeAlpha objective\n",
    "      objective = opt.MaximizeAlpha(alpha)\n",
    "\n",
    "      # Create position size constraint\n",
    "      constrain_pos_size = opt.PositionConcentration.with_equal_bounds(\n",
    "          -context.max_pos_size,\n",
    "          context.max_pos_size\n",
    "      )\n",
    "\n",
    "      # Constrain target portfolio's leverage\n",
    "      max_leverage = opt.MaxGrossExposure(context.max_leverage)\n",
    "\n",
    "      # Ensure long and short books\n",
    "      # are roughly the same size\n",
    "      dollar_neutral = opt.DollarNeutral()\n",
    "\n",
    "      # Constrain portfolio turnover\n",
    "      max_turnover = opt.MaxTurnover(context.max_turnover)"
   ]
  },
  {
   "cell_type": "code",
   "execution_count": 5,
   "metadata": {},
   "outputs": [],
   "source": [
    "#Finally, we can pass our objective and list of constraints to order_optimal_portfolio to calculate a target portfolio, and issue the orders necessary to transition our current portfolio to an optimal state:"
   ]
  },
  {
   "cell_type": "code",
   "execution_count": 6,
   "metadata": {},
   "outputs": [
    {
     "ename": "ModuleNotFoundError",
     "evalue": "No module named 'quantopian'",
     "output_type": "error",
     "traceback": [
      "\u001b[1;31m---------------------------------------------------------------------------\u001b[0m",
      "\u001b[1;31mModuleNotFoundError\u001b[0m                       Traceback (most recent call last)",
      "\u001b[1;32m<ipython-input-6-17a5dc366dc0>\u001b[0m in \u001b[0;36m<module>\u001b[1;34m\u001b[0m\n\u001b[0;32m      1\u001b[0m \u001b[1;31m# Import Algorithm API\u001b[0m\u001b[1;33m\u001b[0m\u001b[1;33m\u001b[0m\u001b[1;33m\u001b[0m\u001b[0m\n\u001b[1;32m----> 2\u001b[1;33m \u001b[1;32mimport\u001b[0m \u001b[0mquantopian\u001b[0m\u001b[1;33m.\u001b[0m\u001b[0malgorithm\u001b[0m \u001b[1;32mas\u001b[0m \u001b[0malgo\u001b[0m\u001b[1;33m\u001b[0m\u001b[1;33m\u001b[0m\u001b[0m\n\u001b[0m\u001b[0;32m      3\u001b[0m \u001b[1;33m\u001b[0m\u001b[0m\n\u001b[0;32m      4\u001b[0m \u001b[1;31m# Import Optimize API\u001b[0m\u001b[1;33m\u001b[0m\u001b[1;33m\u001b[0m\u001b[1;33m\u001b[0m\u001b[0m\n\u001b[0;32m      5\u001b[0m \u001b[1;32mimport\u001b[0m \u001b[0mquantopian\u001b[0m\u001b[1;33m.\u001b[0m\u001b[0moptimize\u001b[0m \u001b[1;32mas\u001b[0m \u001b[0mopt\u001b[0m\u001b[1;33m\u001b[0m\u001b[1;33m\u001b[0m\u001b[0m\n",
      "\u001b[1;31mModuleNotFoundError\u001b[0m: No module named 'quantopian'"
     ]
    }
   ],
   "source": [
    "# Import Algorithm API\n",
    "import quantopian.algorithm as algo\n",
    "\n",
    "# Import Optimize API\n",
    "import quantopian.optimize as opt\n",
    "\n",
    "\n",
    "def rebalance(context, data):\n",
    "  # Retrieve alpha from pipeline output\n",
    "  alpha = context.pipeline_data.sentiment_score\n",
    "\n",
    "  if not alpha.empty:\n",
    "      # Create MaximizeAlpha objective\n",
    "      objective = opt.MaximizeAlpha(alpha)\n",
    "\n",
    "      # Create position size constraint\n",
    "      constrain_pos_size = opt.PositionConcentration.with_equal_bounds(\n",
    "          -context.max_pos_size,\n",
    "          context.max_pos_size\n",
    "      )\n",
    "\n",
    "      # Constrain target portfolio's leverage\n",
    "      max_leverage = opt.MaxGrossExposure(context.max_leverage)\n",
    "\n",
    "      # Ensure long and short books\n",
    "      # are roughly the same size\n",
    "      dollar_neutral = opt.DollarNeutral()\n",
    "\n",
    "      # Constrain portfolio turnover\n",
    "      max_turnover = opt.MaxTurnover(context.max_turnover)\n",
    "\n",
    "      # Rebalance portfolio using objective\n",
    "      # and list of constraints\n",
    "      algo.order_optimal_portfolio(\n",
    "          objective=objective,\n",
    "          constraints=[\n",
    "              constrain_pos_size,\n",
    "              max_leverage,\n",
    "              dollar_neutral,\n",
    "              max_turnover,\n",
    "          ]\n",
    "      )"
   ]
  },
  {
   "cell_type": "code",
   "execution_count": 7,
   "metadata": {},
   "outputs": [
    {
     "ename": "ModuleNotFoundError",
     "evalue": "No module named 'quantopian'",
     "output_type": "error",
     "traceback": [
      "\u001b[1;31m---------------------------------------------------------------------------\u001b[0m",
      "\u001b[1;31mModuleNotFoundError\u001b[0m                       Traceback (most recent call last)",
      "\u001b[1;32m<ipython-input-7-df7e8c044df8>\u001b[0m in \u001b[0;36m<module>\u001b[1;34m\u001b[0m\n\u001b[0;32m      1\u001b[0m \u001b[1;31m#RISK MANAGEMENT\u001b[0m\u001b[1;33m\u001b[0m\u001b[1;33m\u001b[0m\u001b[1;33m\u001b[0m\u001b[0m\n\u001b[0;32m      2\u001b[0m \u001b[1;31m# Import Algorithm API\u001b[0m\u001b[1;33m\u001b[0m\u001b[1;33m\u001b[0m\u001b[1;33m\u001b[0m\u001b[0m\n\u001b[1;32m----> 3\u001b[1;33m \u001b[1;32mimport\u001b[0m \u001b[0mquantopian\u001b[0m\u001b[1;33m.\u001b[0m\u001b[0malgorithm\u001b[0m \u001b[1;32mas\u001b[0m \u001b[0malgo\u001b[0m\u001b[1;33m\u001b[0m\u001b[1;33m\u001b[0m\u001b[0m\n\u001b[0m\u001b[0;32m      4\u001b[0m \u001b[1;33m\u001b[0m\u001b[0m\n\u001b[0;32m      5\u001b[0m \u001b[1;31m# Import Risk API method\u001b[0m\u001b[1;33m\u001b[0m\u001b[1;33m\u001b[0m\u001b[1;33m\u001b[0m\u001b[0m\n",
      "\u001b[1;31mModuleNotFoundError\u001b[0m: No module named 'quantopian'"
     ]
    }
   ],
   "source": [
    "#RISK MANAGEMENT\n",
    "# Import Algorithm API\n",
    "import quantopian.algorithm as algo\n",
    "\n",
    "# Import Risk API method\n",
    "from quantopian.pipeline.experimental import risk_loading_pipeline\n",
    "\n",
    "def initialize(context):\n",
    "    # Constraint parameters\n",
    "    context.max_leverage = 1.0\n",
    "    context.max_pos_size = 0.015\n",
    "    context.max_turnover = 0.95\n",
    "\n",
    "    # Attach data pipelines\n",
    "    algo.attach_pipeline(\n",
    "        make_pipeline(),\n",
    "        'data_pipe'\n",
    "    )\n",
    "    algo.attach_pipeline(\n",
    "        risk_loading_pipeline(),\n",
    "        'risk_pipe'\n",
    "    )\n",
    "\n",
    "    # Schedule rebalance function\n",
    "    algo.schedule_function(\n",
    "        rebalance,\n",
    "        algo.date_rules.week_start(),\n",
    "        algo.time_rules.market_open(),\n",
    "    )\n",
    "\n",
    "\n",
    "def before_trading_start(context, data):\n",
    "    # Get pipeline outputs and\n",
    "    # store them in context\n",
    "    context.pipeline_data = algo.pipeline_output(\n",
    "      'data_pipe'\n",
    "    )\n",
    "\n",
    "    context.risk_factor_betas = algo.pipeline_output(\n",
    "      'risk_pipe'\n",
    "    )"
   ]
  },
  {
   "cell_type": "code",
   "execution_count": 8,
   "metadata": {},
   "outputs": [],
   "source": [
    "#The next step is to add a RiskModelExposure constraint to our portfolio optimization logic. This constraint takes the data generated by the Risk Model and sets a limit on the overall exposure of our target portfolio to each of the factors included in the model."
   ]
  },
  {
   "cell_type": "code",
   "execution_count": 9,
   "metadata": {},
   "outputs": [
    {
     "ename": "NameError",
     "evalue": "name 'opt' is not defined",
     "output_type": "error",
     "traceback": [
      "\u001b[1;31m---------------------------------------------------------------------------\u001b[0m",
      "\u001b[1;31mNameError\u001b[0m                                 Traceback (most recent call last)",
      "\u001b[1;32m<ipython-input-9-6ec8dbfbd22d>\u001b[0m in \u001b[0;36m<module>\u001b[1;34m\u001b[0m\n\u001b[0;32m      2\u001b[0m \u001b[1;31m# By default, max sector exposure is set at\u001b[0m\u001b[1;33m\u001b[0m\u001b[1;33m\u001b[0m\u001b[1;33m\u001b[0m\u001b[0m\n\u001b[0;32m      3\u001b[0m \u001b[1;31m# 0.2, and max style exposure is set at 0.4\u001b[0m\u001b[1;33m\u001b[0m\u001b[1;33m\u001b[0m\u001b[1;33m\u001b[0m\u001b[0m\n\u001b[1;32m----> 4\u001b[1;33m factor_risk_constraints = opt.experimental.RiskModelExposure(\n\u001b[0m\u001b[0;32m      5\u001b[0m     \u001b[0mcontext\u001b[0m\u001b[1;33m.\u001b[0m\u001b[0mrisk_factor_betas\u001b[0m\u001b[1;33m,\u001b[0m\u001b[1;33m\u001b[0m\u001b[1;33m\u001b[0m\u001b[0m\n\u001b[0;32m      6\u001b[0m     \u001b[0mversion\u001b[0m\u001b[1;33m=\u001b[0m\u001b[0mopt\u001b[0m\u001b[1;33m.\u001b[0m\u001b[0mNewest\u001b[0m\u001b[1;33m\u001b[0m\u001b[1;33m\u001b[0m\u001b[0m\n",
      "\u001b[1;31mNameError\u001b[0m: name 'opt' is not defined"
     ]
    }
   ],
   "source": [
    "# Constrain target portfolio's risk exposure\n",
    "# By default, max sector exposure is set at\n",
    "# 0.2, and max style exposure is set at 0.4\n",
    "factor_risk_constraints = opt.experimental.RiskModelExposure(\n",
    "    context.risk_factor_betas,\n",
    "    version=opt.Newest\n",
    ")"
   ]
  },
  {
   "cell_type": "code",
   "execution_count": 10,
   "metadata": {},
   "outputs": [],
   "source": [
    "#Finally, the following algorithm encompasses our strategy and portfolio construction logic, and is ready to be backtested. After cloning the algorithm, run a full backtest by clicking on \"Run Full Backtest\" in the top right corner of the IDE."
   ]
  },
  {
   "cell_type": "code",
   "execution_count": 11,
   "metadata": {},
   "outputs": [
    {
     "ename": "ModuleNotFoundError",
     "evalue": "No module named 'quantopian'",
     "output_type": "error",
     "traceback": [
      "\u001b[1;31m---------------------------------------------------------------------------\u001b[0m",
      "\u001b[1;31mModuleNotFoundError\u001b[0m                       Traceback (most recent call last)",
      "\u001b[1;32m<ipython-input-11-e4ddb77e24fb>\u001b[0m in \u001b[0;36m<module>\u001b[1;34m\u001b[0m\n\u001b[0;32m      1\u001b[0m \u001b[1;31m# Import Algorithm API\u001b[0m\u001b[1;33m\u001b[0m\u001b[1;33m\u001b[0m\u001b[1;33m\u001b[0m\u001b[0m\n\u001b[1;32m----> 2\u001b[1;33m \u001b[1;32mimport\u001b[0m \u001b[0mquantopian\u001b[0m\u001b[1;33m.\u001b[0m\u001b[0malgorithm\u001b[0m \u001b[1;32mas\u001b[0m \u001b[0malgo\u001b[0m\u001b[1;33m\u001b[0m\u001b[1;33m\u001b[0m\u001b[0m\n\u001b[0m\u001b[0;32m      3\u001b[0m \u001b[1;33m\u001b[0m\u001b[0m\n\u001b[0;32m      4\u001b[0m \u001b[1;31m# Import Optimize API\u001b[0m\u001b[1;33m\u001b[0m\u001b[1;33m\u001b[0m\u001b[1;33m\u001b[0m\u001b[0m\n\u001b[0;32m      5\u001b[0m \u001b[1;32mimport\u001b[0m \u001b[0mquantopian\u001b[0m\u001b[1;33m.\u001b[0m\u001b[0moptimize\u001b[0m \u001b[1;32mas\u001b[0m \u001b[0mopt\u001b[0m\u001b[1;33m\u001b[0m\u001b[1;33m\u001b[0m\u001b[0m\n",
      "\u001b[1;31mModuleNotFoundError\u001b[0m: No module named 'quantopian'"
     ]
    }
   ],
   "source": [
    "# Import Algorithm API\n",
    "import quantopian.algorithm as algo\n",
    "\n",
    "# Import Optimize API\n",
    "import quantopian.optimize as opt\n",
    "\n",
    "# Pipeline imports\n",
    "from quantopian.pipeline import Pipeline\n",
    "from quantopian.pipeline.data.psychsignal import stocktwits\n",
    "from quantopian.pipeline.factors import SimpleMovingAverage\n",
    "\n",
    "# Import built-in universe and Risk API method\n",
    "from quantopian.pipeline.filters import QTradableStocksUS\n",
    "from quantopian.pipeline.experimental import risk_loading_pipeline\n",
    "\n",
    "\n",
    "def initialize(context):\n",
    "    # Constraint parameters\n",
    "    context.max_leverage = 1.0\n",
    "    context.max_pos_size = 0.015\n",
    "    context.max_turnover = 0.95\n",
    "\n",
    "    # Attach data pipelines\n",
    "    algo.attach_pipeline(\n",
    "        make_pipeline(),\n",
    "        'data_pipe'\n",
    "    )\n",
    "    algo.attach_pipeline(\n",
    "        risk_loading_pipeline(),\n",
    "        'risk_pipe'\n",
    "    )\n",
    "\n",
    "    # Schedule rebalance function\n",
    "    algo.schedule_function(\n",
    "        rebalance,\n",
    "        algo.date_rules.week_start(),\n",
    "        algo.time_rules.market_open(),\n",
    "    )\n",
    "\n",
    "\n",
    "def before_trading_start(context, data):\n",
    "    # Get pipeline outputs and\n",
    "    # store them in context\n",
    "    context.pipeline_data = algo.pipeline_output('data_pipe')\n",
    "\n",
    "    context.risk_factor_betas = algo.pipeline_output('risk_pipe')\n",
    "\n",
    "\n",
    "# Pipeline definition\n",
    "def make_pipeline():\n",
    "\n",
    "    sentiment_score = SimpleMovingAverage(\n",
    "        inputs=[stocktwits.bull_minus_bear],\n",
    "        window_length=3,\n",
    "        mask=QTradableStocksUS()\n",
    "    )\n",
    "\n",
    "    return Pipeline(\n",
    "        columns={\n",
    "            'sentiment_score': sentiment_score,\n",
    "        },\n",
    "        screen=sentiment_score.notnull()\n",
    "    )\n",
    "\n",
    "\n",
    "def rebalance(context, data):\n",
    "    # Retrieve alpha from pipeline output\n",
    "    alpha = context.pipeline_data.sentiment_score\n",
    "\n",
    "    if not alpha.empty:\n",
    "        # Create MaximizeAlpha objective\n",
    "        objective = opt.MaximizeAlpha(alpha)\n",
    "\n",
    "        # Create position size constraint\n",
    "        constrain_pos_size = opt.PositionConcentration.with_equal_bounds(\n",
    "            -context.max_pos_size,\n",
    "            context.max_pos_size\n",
    "        )\n",
    "\n",
    "        # Constrain target portfolio's leverage\n",
    "        max_leverage = opt.MaxGrossExposure(context.max_leverage)\n",
    "\n",
    "        # Ensure long and short books\n",
    "        # are roughly the same size\n",
    "        dollar_neutral = opt.DollarNeutral()\n",
    "\n",
    "        # Constrain portfolio turnover\n",
    "        max_turnover = opt.MaxTurnover(context.max_turnover)\n",
    "\n",
    "        # Constrain target portfolio's risk exposure\n",
    "        # By default, max sector exposure is set at\n",
    "        # 0.2, and max style exposure is set at 0.4\n",
    "        factor_risk_constraints = opt.experimental.RiskModelExposure(\n",
    "            context.risk_factor_betas,\n",
    "            version=opt.Newest\n",
    "        )\n",
    "\n",
    "        # Rebalance portfolio using objective\n",
    "        # and list of constraints\n",
    "        algo.order_optimal_portfolio(\n",
    "            objective=objective,\n",
    "            constraints=[\n",
    "                constrain_pos_size,\n",
    "                max_leverage,\n",
    "                dollar_neutral,\n",
    "                max_turnover,\n",
    "                factor_risk_constraints,\n",
    "            ]\n",
    "        )"
   ]
  },
  {
   "cell_type": "code",
   "execution_count": null,
   "metadata": {},
   "outputs": [],
   "source": []
  }
 ],
 "metadata": {
  "kernelspec": {
   "display_name": "Python 3",
   "language": "python",
   "name": "python3"
  },
  "language_info": {
   "codemirror_mode": {
    "name": "ipython",
    "version": 3
   },
   "file_extension": ".py",
   "mimetype": "text/x-python",
   "name": "python",
   "nbconvert_exporter": "python",
   "pygments_lexer": "ipython3",
   "version": "3.7.4"
  }
 },
 "nbformat": 4,
 "nbformat_minor": 2
}
