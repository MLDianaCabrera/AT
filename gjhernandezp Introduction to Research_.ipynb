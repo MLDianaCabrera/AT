{
 "cells": [
  {
   "cell_type": "markdown",
   "metadata": {},
   "source": [
    "#Introduction to the Research Environment\n",
    "\n",
    "The research environment is powered by IPython notebooks, which allow one to perform a great deal of data analysis and statistical validation. We'll demonstrate a few simple techniques here."
   ]
  },
  {
   "cell_type": "markdown",
   "metadata": {},
   "source": [
    "##Code Cells vs. Text Cells\n",
    "\n",
    "As you can see, each cell can be either code or text ~~. To select between ~~them, choose from the 'Cell Type' dropdown menu on the top left."
   ]
  },
  {
   "cell_type": "markdown",
   "metadata": {},
   "source": [
    "#  Example"
   ]
  },
  {
   "cell_type": "markdown",
   "metadata": {},
   "source": [
    "##Executing a Command\n",
    "\n",
    "A code cell will be evaluated when you press play, or when you press the shortcut, shift-enter. Evaluating a cell evaluates each line of code in sequence, and prints the results of the last line below the cell."
   ]
  },
  {
   "cell_type": "code",
   "execution_count": 2,
   "metadata": {},
   "outputs": [
    {
     "data": {
      "text/plain": [
       "7"
      ]
     },
     "execution_count": 2,
     "metadata": {},
     "output_type": "execute_result"
    }
   ],
   "source": [
    "2 + 5"
   ]
  },
  {
   "cell_type": "markdown",
   "metadata": {},
   "source": [
    "Sometimes there is no result to be printed, as is the case with assignment."
   ]
  },
  {
   "cell_type": "code",
   "execution_count": 11,
   "metadata": {},
   "outputs": [
    {
     "data": {
      "text/plain": [
       "4"
      ]
     },
     "execution_count": 11,
     "metadata": {},
     "output_type": "execute_result"
    }
   ],
   "source": [
    "Y = 1\n",
    "X = 2\n",
    "2 + 2"
   ]
  },
  {
   "cell_type": "code",
   "execution_count": 14,
   "metadata": {},
   "outputs": [],
   "source": [
    "Y = \"eee\""
   ]
  },
  {
   "cell_type": "code",
   "execution_count": 15,
   "metadata": {},
   "outputs": [
    {
     "name": "stdout",
     "output_type": "stream",
     "text": [
      "eeeeee\n"
     ]
    }
   ],
   "source": [
    "print (Y+Y)"
   ]
  },
  {
   "cell_type": "markdown",
   "metadata": {},
   "source": [
    "Remember that only the result from the last line is printed."
   ]
  },
  {
   "cell_type": "code",
   "execution_count": 5,
   "metadata": {},
   "outputs": [
    {
     "data": {
      "text/plain": [
       "6"
      ]
     },
     "execution_count": 5,
     "metadata": {},
     "output_type": "execute_result"
    }
   ],
   "source": [
    "2 + 2\n",
    "3 + 3"
   ]
  },
  {
   "cell_type": "code",
   "execution_count": 7,
   "metadata": {},
   "outputs": [
    {
     "name": "stdout",
     "output_type": "stream",
     "text": [
      "2\n"
     ]
    }
   ],
   "source": [
    "print (Y+Y)"
   ]
  },
  {
   "cell_type": "markdown",
   "metadata": {},
   "source": [
    "However, you can print whichever lines you want using the `print` statement."
   ]
  },
  {
   "cell_type": "code",
   "execution_count": null,
   "metadata": {},
   "outputs": [],
   "source": [
    "print 2 + 2\n",
    "3 + 3"
   ]
  },
  {
   "cell_type": "markdown",
   "metadata": {},
   "source": [
    "##Knowing When a Cell is Running\n",
    "\n",
    "While a cell is running, a `[*]` will display on the left. When a cell has yet to be executed, `[ ]` will display. When it has been run, a number will display indicating the order in which it was run during the execution of the notebook `[5]`. Try on this cell and note it happening."
   ]
  },
  {
   "cell_type": "code",
   "execution_count": 9,
   "metadata": {},
   "outputs": [
    {
     "data": {
      "text/plain": [
       "49999995000000"
      ]
     },
     "execution_count": 9,
     "metadata": {},
     "output_type": "execute_result"
    }
   ],
   "source": [
    "#Take some time to run something\n",
    "c = 0\n",
    "for i in range(10000000):\n",
    "    c = c + i\n",
    "c"
   ]
  },
  {
   "cell_type": "markdown",
   "metadata": {},
   "source": [
    "##Importing Libraries\n",
    "\n",
    "The vast majority of the time, you'll want to use functions from pre-built libraries. You can't import every library on Quantopian due to security issues, but you can import most of the common scientific ones. Here I import numpy and pandas, the two most common and useful libraries in quant finance. I recommend copying this import statement to every new notebook.\n",
    "\n",
    "Notice that you can rename libraries to whatever you want after importing. The `as` statement allows this. Here we use `np` and `pd` as aliases for `numpy` and `pandas`. This is a very common aliasing and will be found in most code snippets around the web. The point behind this is to allow you to type fewer characters when you are frequently accessing these libraries."
   ]
  },
  {
   "cell_type": "code",
   "execution_count": 17,
   "metadata": {},
   "outputs": [],
   "source": [
    "import numpy as np\n",
    "import pandas as pd\n",
    "\n",
    "# This is a plotting library for pretty pictures.\n",
    "import matplotlib.pyplot as plt"
   ]
  },
  {
   "cell_type": "markdown",
   "metadata": {},
   "source": [
    "##Tab Autocomplete\n",
    "\n",
    "Pressing tab will give you a list of IPython's best guesses for what you might want to type next. This is incredibly valuable and will save you a lot of time. If there is only one possible option for what you could type next, IPython will fill that in for you. Try pressing tab very frequently, it will seldom fill in anything you don't want, as if there is ambiguity a list will be shown. This is a great way to see what functions are available in a library.\n",
    "\n",
    "Try placing your cursor after the `.` and pressing tab."
   ]
  },
  {
   "cell_type": "code",
   "execution_count": 27,
   "metadata": {},
   "outputs": [
    {
     "data": {
      "text/plain": [
       "0.10046191773338345"
      ]
     },
     "execution_count": 27,
     "metadata": {},
     "output_type": "execute_result"
    }
   ],
   "source": [
    "mu, sigma = 0, 0.1 # mean and standard deviation\n",
    "s = np.random.normal(mu, sigma, 1000)\n",
    "np.std(s, ddof=1)"
   ]
  },
  {
   "cell_type": "markdown",
   "metadata": {},
   "source": [
    "##Getting Documentation Help\n",
    "\n",
    "Placing a question mark after a function and executing that line of code will give you the documentation IPython has for that function. It's often best to do this in a new cell, as you avoid re-executing other code and running into bugs."
   ]
  },
  {
   "cell_type": "code",
   "execution_count": 19,
   "metadata": {},
   "outputs": [],
   "source": [
    "np.random.normal?"
   ]
  },
  {
   "cell_type": "markdown",
   "metadata": {},
   "source": [
    "##Sampling\n",
    "\n",
    "We'll sample some random data using a function from `numpy`."
   ]
  },
  {
   "cell_type": "code",
   "execution_count": 28,
   "metadata": {},
   "outputs": [
    {
     "data": {
      "image/png": "[encoded data removed]",
      "text/plain": [
       "<matplotlib.figure.Figure at 0x7fe02ea9b050>"
      ]
     },
     "metadata": {},
     "output_type": "display_data"
    }
   ],
   "source": [
    "# Sample 100 points with a mean of 0 and an std of 1. This is a standard normal distribution.\n",
    "X = np.random.normal(0, 1, 100)\n",
    "count, bins, ignored = plt.hist(s, 30, normed=True)"
   ]
  },
  {
   "cell_type": "markdown",
   "metadata": {},
   "source": [
    "##Plotting\n",
    "\n",
    "We can use the plotting library we imported as follows."
   ]
  },
  {
   "cell_type": "code",
   "execution_count": null,
   "metadata": {},
   "outputs": [],
   "source": [
    "plt.plot(X)"
   ]
  },
  {
   "cell_type": "markdown",
   "metadata": {},
   "source": [
    "###Squelching Line Output\n",
    "\n",
    "You might have noticed the annoying line of the form `[<matplotlib.lines.Line2D at 0x7f72fdbc1710>]` before the plots. This is because the `.plot` function actually produces output. Sometimes we wish not to display output, we can accomplish this with the semi-colon as follows."
   ]
  },
  {
   "cell_type": "code",
   "execution_count": null,
   "metadata": {},
   "outputs": [],
   "source": [
    "plt.plot(X);"
   ]
  },
  {
   "cell_type": "markdown",
   "metadata": {},
   "source": [
    "###Adding Axis Labels\n",
    "\n",
    "No self-respecting quant leaves a graph without labeled axes. Here are some commands to help with that."
   ]
  },
  {
   "cell_type": "code",
   "execution_count": null,
   "metadata": {},
   "outputs": [],
   "source": [
    "X = np.random.normal(0, 1, 100)\n",
    "X2 = np.random.normal(0, 1, 100)\n",
    "\n",
    "plt.plot(X);\n",
    "plt.plot(X2);\n",
    "plt.xlabel('Time') # The data we generated is unitless, but don't forget units in general.\n",
    "plt.ylabel('Returns')\n",
    "plt.legend(['X', 'X2']);"
   ]
  },
  {
   "cell_type": "markdown",
   "metadata": {},
   "source": [
    "##Generating Statistics\n",
    "\n",
    "Let's use `numpy` to take some simple statistics."
   ]
  },
  {
   "cell_type": "code",
   "execution_count": null,
   "metadata": {},
   "outputs": [],
   "source": [
    "np.mean(X)"
   ]
  },
  {
   "cell_type": "code",
   "execution_count": null,
   "metadata": {},
   "outputs": [],
   "source": [
    "np.std(X)"
   ]
  },
  {
   "cell_type": "markdown",
   "metadata": {},
   "source": [
    "##Getting Real Pricing Data\n",
    "\n",
    "Randomly sampled data can be great for testing ideas, but let's get some real data. We can use `get_pricing` to do that. You can use the `?` syntax as discussed above to get more information on `get_pricing`'s arguments."
   ]
  },
  {
   "cell_type": "code",
   "execution_count": 55,
   "metadata": {},
   "outputs": [],
   "source": [
    "data = get_pricing('MSFT', start_date='2012-1-1', end_date='2015-6-1')"
   ]
  },
  {
   "cell_type": "markdown",
   "metadata": {},
   "source": [
    "Our data is now a dataframe. You can see the datetime index and the colums with different pricing data."
   ]
  },
  {
   "cell_type": "code",
   "execution_count": 56,
   "metadata": {},
   "outputs": [
    {
     "data": {
      "text/html": [
       "<div>\n",
       "<table border=\"1\" class=\"dataframe\">\n",
       "  <thead>\n",
       "    <tr style=\"text-align: right;\">\n",
       "      <th></th>\n",
       "      <th>open_price</th>\n",
       "      <th>high</th>\n",
       "      <th>low</th>\n",
       "      <th>close_price</th>\n",
       "      <th>volume</th>\n",
       "      <th>price</th>\n",
       "    </tr>\n",
       "  </thead>\n",
       "  <tbody>\n",
       "    <tr>\n",
       "      <th>2012-01-03 00:00:00+00:00</th>\n",
       "      <td>24.065</td>\n",
       "      <td>24.436</td>\n",
       "      <td>23.920</td>\n",
       "      <td>24.319</td>\n",
       "      <td>60891291.0</td>\n",
       "      <td>24.319</td>\n",
       "    </tr>\n",
       "    <tr>\n",
       "      <th>2012-01-04 00:00:00+00:00</th>\n",
       "      <td>24.309</td>\n",
       "      <td>24.899</td>\n",
       "      <td>24.273</td>\n",
       "      <td>24.826</td>\n",
       "      <td>76534029.0</td>\n",
       "      <td>24.826</td>\n",
       "    </tr>\n",
       "    <tr>\n",
       "      <th>2012-01-05 00:00:00+00:00</th>\n",
       "      <td>24.817</td>\n",
       "      <td>25.133</td>\n",
       "      <td>24.736</td>\n",
       "      <td>25.080</td>\n",
       "      <td>53479335.0</td>\n",
       "      <td>25.080</td>\n",
       "    </tr>\n",
       "    <tr>\n",
       "      <th>2012-01-06 00:00:00+00:00</th>\n",
       "      <td>24.953</td>\n",
       "      <td>25.551</td>\n",
       "      <td>24.949</td>\n",
       "      <td>25.488</td>\n",
       "      <td>91671771.0</td>\n",
       "      <td>25.488</td>\n",
       "    </tr>\n",
       "    <tr>\n",
       "      <th>2012-01-09 00:00:00+00:00</th>\n",
       "      <td>25.424</td>\n",
       "      <td>25.470</td>\n",
       "      <td>25.125</td>\n",
       "      <td>25.143</td>\n",
       "      <td>56352965.0</td>\n",
       "      <td>25.143</td>\n",
       "    </tr>\n",
       "    <tr>\n",
       "      <th>2012-01-10 00:00:00+00:00</th>\n",
       "      <td>25.316</td>\n",
       "      <td>25.515</td>\n",
       "      <td>25.152</td>\n",
       "      <td>25.234</td>\n",
       "      <td>54223945.0</td>\n",
       "      <td>25.234</td>\n",
       "    </tr>\n",
       "    <tr>\n",
       "      <th>2012-01-11 00:00:00+00:00</th>\n",
       "      <td>24.862</td>\n",
       "      <td>25.361</td>\n",
       "      <td>24.808</td>\n",
       "      <td>25.125</td>\n",
       "      <td>62855941.0</td>\n",
       "      <td>25.125</td>\n",
       "    </tr>\n",
       "    <tr>\n",
       "      <th>2012-01-12 00:00:00+00:00</th>\n",
       "      <td>25.261</td>\n",
       "      <td>25.397</td>\n",
       "      <td>25.057</td>\n",
       "      <td>25.379</td>\n",
       "      <td>46186121.0</td>\n",
       "      <td>25.379</td>\n",
       "    </tr>\n",
       "    <tr>\n",
       "      <th>2012-01-13 00:00:00+00:00</th>\n",
       "      <td>25.316</td>\n",
       "      <td>25.606</td>\n",
       "      <td>25.189</td>\n",
       "      <td>25.606</td>\n",
       "      <td>55326851.0</td>\n",
       "      <td>25.606</td>\n",
       "    </tr>\n",
       "    <tr>\n",
       "      <th>2012-01-17 00:00:00+00:00</th>\n",
       "      <td>25.742</td>\n",
       "      <td>25.968</td>\n",
       "      <td>25.533</td>\n",
       "      <td>25.615</td>\n",
       "      <td>66537766.0</td>\n",
       "      <td>25.615</td>\n",
       "    </tr>\n",
       "    <tr>\n",
       "      <th>2012-01-18 00:00:00+00:00</th>\n",
       "      <td>25.660</td>\n",
       "      <td>25.742</td>\n",
       "      <td>25.352</td>\n",
       "      <td>25.588</td>\n",
       "      <td>60912302.0</td>\n",
       "      <td>25.588</td>\n",
       "    </tr>\n",
       "    <tr>\n",
       "      <th>2012-01-19 00:00:00+00:00</th>\n",
       "      <td>25.524</td>\n",
       "      <td>25.773</td>\n",
       "      <td>25.406</td>\n",
       "      <td>25.497</td>\n",
       "      <td>66169544.0</td>\n",
       "      <td>25.497</td>\n",
       "    </tr>\n",
       "    <tr>\n",
       "      <th>2012-01-20 00:00:00+00:00</th>\n",
       "      <td>26.122</td>\n",
       "      <td>26.956</td>\n",
       "      <td>26.059</td>\n",
       "      <td>26.929</td>\n",
       "      <td>157989713.0</td>\n",
       "      <td>26.929</td>\n",
       "    </tr>\n",
       "    <tr>\n",
       "      <th>2012-01-23 00:00:00+00:00</th>\n",
       "      <td>26.784</td>\n",
       "      <td>27.147</td>\n",
       "      <td>26.603</td>\n",
       "      <td>26.947</td>\n",
       "      <td>70185739.0</td>\n",
       "      <td>26.947</td>\n",
       "    </tr>\n",
       "    <tr>\n",
       "      <th>2012-01-24 00:00:00+00:00</th>\n",
       "      <td>26.711</td>\n",
       "      <td>26.802</td>\n",
       "      <td>26.449</td>\n",
       "      <td>26.594</td>\n",
       "      <td>48606276.0</td>\n",
       "      <td>26.594</td>\n",
       "    </tr>\n",
       "    <tr>\n",
       "      <th>2012-01-25 00:00:00+00:00</th>\n",
       "      <td>26.349</td>\n",
       "      <td>26.875</td>\n",
       "      <td>26.349</td>\n",
       "      <td>26.802</td>\n",
       "      <td>55871304.0</td>\n",
       "      <td>26.802</td>\n",
       "    </tr>\n",
       "    <tr>\n",
       "      <th>2012-01-26 00:00:00+00:00</th>\n",
       "      <td>26.838</td>\n",
       "      <td>26.920</td>\n",
       "      <td>26.648</td>\n",
       "      <td>26.748</td>\n",
       "      <td>46229333.0</td>\n",
       "      <td>26.748</td>\n",
       "    </tr>\n",
       "    <tr>\n",
       "      <th>2012-01-27 00:00:00+00:00</th>\n",
       "      <td>26.693</td>\n",
       "      <td>26.766</td>\n",
       "      <td>26.440</td>\n",
       "      <td>26.485</td>\n",
       "      <td>41452599.0</td>\n",
       "      <td>26.485</td>\n",
       "    </tr>\n",
       "    <tr>\n",
       "      <th>2012-01-30 00:00:00+00:00</th>\n",
       "      <td>26.258</td>\n",
       "      <td>26.847</td>\n",
       "      <td>26.131</td>\n",
       "      <td>26.838</td>\n",
       "      <td>46520829.0</td>\n",
       "      <td>26.838</td>\n",
       "    </tr>\n",
       "    <tr>\n",
       "      <th>2012-01-31 00:00:00+00:00</th>\n",
       "      <td>26.884</td>\n",
       "      <td>26.920</td>\n",
       "      <td>26.494</td>\n",
       "      <td>26.775</td>\n",
       "      <td>40812893.0</td>\n",
       "      <td>26.775</td>\n",
       "    </tr>\n",
       "    <tr>\n",
       "      <th>2012-02-01 00:00:00+00:00</th>\n",
       "      <td>27.002</td>\n",
       "      <td>27.237</td>\n",
       "      <td>26.974</td>\n",
       "      <td>27.092</td>\n",
       "      <td>64067228.0</td>\n",
       "      <td>27.092</td>\n",
       "    </tr>\n",
       "    <tr>\n",
       "      <th>2012-02-02 00:00:00+00:00</th>\n",
       "      <td>27.101</td>\n",
       "      <td>27.346</td>\n",
       "      <td>26.929</td>\n",
       "      <td>27.142</td>\n",
       "      <td>49959760.0</td>\n",
       "      <td>27.142</td>\n",
       "    </tr>\n",
       "    <tr>\n",
       "      <th>2012-02-03 00:00:00+00:00</th>\n",
       "      <td>27.319</td>\n",
       "      <td>27.554</td>\n",
       "      <td>27.273</td>\n",
       "      <td>27.391</td>\n",
       "      <td>38728694.0</td>\n",
       "      <td>27.391</td>\n",
       "    </tr>\n",
       "    <tr>\n",
       "      <th>2012-02-06 00:00:00+00:00</th>\n",
       "      <td>27.228</td>\n",
       "      <td>27.391</td>\n",
       "      <td>27.165</td>\n",
       "      <td>27.373</td>\n",
       "      <td>26067704.0</td>\n",
       "      <td>27.373</td>\n",
       "    </tr>\n",
       "    <tr>\n",
       "      <th>2012-02-07 00:00:00+00:00</th>\n",
       "      <td>27.328</td>\n",
       "      <td>27.631</td>\n",
       "      <td>27.237</td>\n",
       "      <td>27.518</td>\n",
       "      <td>36751791.0</td>\n",
       "      <td>27.518</td>\n",
       "    </tr>\n",
       "    <tr>\n",
       "      <th>2012-02-08 00:00:00+00:00</th>\n",
       "      <td>27.428</td>\n",
       "      <td>27.799</td>\n",
       "      <td>27.391</td>\n",
       "      <td>27.790</td>\n",
       "      <td>47382414.0</td>\n",
       "      <td>27.790</td>\n",
       "    </tr>\n",
       "    <tr>\n",
       "      <th>2012-02-09 00:00:00+00:00</th>\n",
       "      <td>27.808</td>\n",
       "      <td>27.917</td>\n",
       "      <td>27.627</td>\n",
       "      <td>27.890</td>\n",
       "      <td>45580004.0</td>\n",
       "      <td>27.890</td>\n",
       "    </tr>\n",
       "    <tr>\n",
       "      <th>2012-02-10 00:00:00+00:00</th>\n",
       "      <td>27.772</td>\n",
       "      <td>27.917</td>\n",
       "      <td>27.518</td>\n",
       "      <td>27.622</td>\n",
       "      <td>38526519.0</td>\n",
       "      <td>27.622</td>\n",
       "    </tr>\n",
       "    <tr>\n",
       "      <th>2012-02-13 00:00:00+00:00</th>\n",
       "      <td>27.763</td>\n",
       "      <td>27.890</td>\n",
       "      <td>27.582</td>\n",
       "      <td>27.699</td>\n",
       "      <td>31447419.0</td>\n",
       "      <td>27.699</td>\n",
       "    </tr>\n",
       "    <tr>\n",
       "      <th>2012-02-14 00:00:00+00:00</th>\n",
       "      <td>27.672</td>\n",
       "      <td>27.791</td>\n",
       "      <td>27.234</td>\n",
       "      <td>27.599</td>\n",
       "      <td>50770567.0</td>\n",
       "      <td>27.599</td>\n",
       "    </tr>\n",
       "    <tr>\n",
       "      <th>...</th>\n",
       "      <td>...</td>\n",
       "      <td>...</td>\n",
       "      <td>...</td>\n",
       "      <td>...</td>\n",
       "      <td>...</td>\n",
       "      <td>...</td>\n",
       "    </tr>\n",
       "    <tr>\n",
       "      <th>2015-04-20 00:00:00+00:00</th>\n",
       "      <td>41.461</td>\n",
       "      <td>42.891</td>\n",
       "      <td>41.411</td>\n",
       "      <td>42.623</td>\n",
       "      <td>38568282.0</td>\n",
       "      <td>42.623</td>\n",
       "    </tr>\n",
       "    <tr>\n",
       "      <th>2015-04-21 00:00:00+00:00</th>\n",
       "      <td>42.722</td>\n",
       "      <td>42.871</td>\n",
       "      <td>42.255</td>\n",
       "      <td>42.365</td>\n",
       "      <td>22952534.0</td>\n",
       "      <td>42.365</td>\n",
       "    </tr>\n",
       "    <tr>\n",
       "      <th>2015-04-22 00:00:00+00:00</th>\n",
       "      <td>42.394</td>\n",
       "      <td>42.852</td>\n",
       "      <td>42.275</td>\n",
       "      <td>42.702</td>\n",
       "      <td>21182014.0</td>\n",
       "      <td>42.702</td>\n",
       "    </tr>\n",
       "    <tr>\n",
       "      <th>2015-04-23 00:00:00+00:00</th>\n",
       "      <td>42.613</td>\n",
       "      <td>43.328</td>\n",
       "      <td>42.524</td>\n",
       "      <td>43.070</td>\n",
       "      <td>37178490.0</td>\n",
       "      <td>43.070</td>\n",
       "    </tr>\n",
       "    <tr>\n",
       "      <th>2015-04-24 00:00:00+00:00</th>\n",
       "      <td>45.365</td>\n",
       "      <td>47.829</td>\n",
       "      <td>45.355</td>\n",
       "      <td>47.561</td>\n",
       "      <td>114396800.0</td>\n",
       "      <td>47.561</td>\n",
       "    </tr>\n",
       "    <tr>\n",
       "      <th>2015-04-27 00:00:00+00:00</th>\n",
       "      <td>46.925</td>\n",
       "      <td>47.819</td>\n",
       "      <td>46.915</td>\n",
       "      <td>47.720</td>\n",
       "      <td>52844498.0</td>\n",
       "      <td>47.720</td>\n",
       "    </tr>\n",
       "    <tr>\n",
       "      <th>2015-04-28 00:00:00+00:00</th>\n",
       "      <td>47.471</td>\n",
       "      <td>48.892</td>\n",
       "      <td>47.392</td>\n",
       "      <td>48.843</td>\n",
       "      <td>53637731.0</td>\n",
       "      <td>48.843</td>\n",
       "    </tr>\n",
       "    <tr>\n",
       "      <th>2015-04-29 00:00:00+00:00</th>\n",
       "      <td>48.405</td>\n",
       "      <td>48.992</td>\n",
       "      <td>48.187</td>\n",
       "      <td>48.733</td>\n",
       "      <td>43326023.0</td>\n",
       "      <td>48.733</td>\n",
       "    </tr>\n",
       "    <tr>\n",
       "      <th>2015-04-30 00:00:00+00:00</th>\n",
       "      <td>48.386</td>\n",
       "      <td>49.220</td>\n",
       "      <td>48.286</td>\n",
       "      <td>48.346</td>\n",
       "      <td>56865088.0</td>\n",
       "      <td>48.346</td>\n",
       "    </tr>\n",
       "    <tr>\n",
       "      <th>2015-05-01 00:00:00+00:00</th>\n",
       "      <td>48.266</td>\n",
       "      <td>48.559</td>\n",
       "      <td>48.087</td>\n",
       "      <td>48.336</td>\n",
       "      <td>32389494.0</td>\n",
       "      <td>48.336</td>\n",
       "    </tr>\n",
       "    <tr>\n",
       "      <th>2015-05-04 00:00:00+00:00</th>\n",
       "      <td>48.058</td>\n",
       "      <td>48.554</td>\n",
       "      <td>47.869</td>\n",
       "      <td>47.929</td>\n",
       "      <td>30328340.0</td>\n",
       "      <td>47.929</td>\n",
       "    </tr>\n",
       "    <tr>\n",
       "      <th>2015-05-05 00:00:00+00:00</th>\n",
       "      <td>47.511</td>\n",
       "      <td>47.849</td>\n",
       "      <td>47.005</td>\n",
       "      <td>47.303</td>\n",
       "      <td>45944460.0</td>\n",
       "      <td>47.303</td>\n",
       "    </tr>\n",
       "    <tr>\n",
       "      <th>2015-05-06 00:00:00+00:00</th>\n",
       "      <td>47.263</td>\n",
       "      <td>47.462</td>\n",
       "      <td>45.723</td>\n",
       "      <td>45.991</td>\n",
       "      <td>47535797.0</td>\n",
       "      <td>45.991</td>\n",
       "    </tr>\n",
       "    <tr>\n",
       "      <th>2015-05-07 00:00:00+00:00</th>\n",
       "      <td>45.971</td>\n",
       "      <td>46.781</td>\n",
       "      <td>45.862</td>\n",
       "      <td>46.398</td>\n",
       "      <td>27047479.0</td>\n",
       "      <td>46.398</td>\n",
       "    </tr>\n",
       "    <tr>\n",
       "      <th>2015-05-08 00:00:00+00:00</th>\n",
       "      <td>47.243</td>\n",
       "      <td>47.670</td>\n",
       "      <td>47.213</td>\n",
       "      <td>47.412</td>\n",
       "      <td>27844465.0</td>\n",
       "      <td>47.412</td>\n",
       "    </tr>\n",
       "    <tr>\n",
       "      <th>2015-05-11 00:00:00+00:00</th>\n",
       "      <td>47.243</td>\n",
       "      <td>47.601</td>\n",
       "      <td>47.064</td>\n",
       "      <td>47.064</td>\n",
       "      <td>17346165.0</td>\n",
       "      <td>47.064</td>\n",
       "    </tr>\n",
       "    <tr>\n",
       "      <th>2015-05-12 00:00:00+00:00</th>\n",
       "      <td>46.547</td>\n",
       "      <td>47.372</td>\n",
       "      <td>46.120</td>\n",
       "      <td>47.054</td>\n",
       "      <td>24031639.0</td>\n",
       "      <td>47.054</td>\n",
       "    </tr>\n",
       "    <tr>\n",
       "      <th>2015-05-13 00:00:00+00:00</th>\n",
       "      <td>47.879</td>\n",
       "      <td>48.008</td>\n",
       "      <td>47.263</td>\n",
       "      <td>47.322</td>\n",
       "      <td>28548931.0</td>\n",
       "      <td>47.322</td>\n",
       "    </tr>\n",
       "    <tr>\n",
       "      <th>2015-05-14 00:00:00+00:00</th>\n",
       "      <td>47.720</td>\n",
       "      <td>48.505</td>\n",
       "      <td>47.720</td>\n",
       "      <td>48.405</td>\n",
       "      <td>26847365.0</td>\n",
       "      <td>48.405</td>\n",
       "    </tr>\n",
       "    <tr>\n",
       "      <th>2015-05-15 00:00:00+00:00</th>\n",
       "      <td>48.554</td>\n",
       "      <td>48.589</td>\n",
       "      <td>47.740</td>\n",
       "      <td>47.988</td>\n",
       "      <td>23411783.0</td>\n",
       "      <td>47.988</td>\n",
       "    </tr>\n",
       "    <tr>\n",
       "      <th>2015-05-18 00:00:00+00:00</th>\n",
       "      <td>47.670</td>\n",
       "      <td>47.909</td>\n",
       "      <td>47.303</td>\n",
       "      <td>47.700</td>\n",
       "      <td>20390841.0</td>\n",
       "      <td>47.700</td>\n",
       "    </tr>\n",
       "    <tr>\n",
       "      <th>2015-05-19 00:00:00+00:00</th>\n",
       "      <td>47.560</td>\n",
       "      <td>47.810</td>\n",
       "      <td>47.180</td>\n",
       "      <td>47.580</td>\n",
       "      <td>22462876.0</td>\n",
       "      <td>47.580</td>\n",
       "    </tr>\n",
       "    <tr>\n",
       "      <th>2015-05-20 00:00:00+00:00</th>\n",
       "      <td>47.390</td>\n",
       "      <td>47.930</td>\n",
       "      <td>47.270</td>\n",
       "      <td>47.580</td>\n",
       "      <td>18413349.0</td>\n",
       "      <td>47.580</td>\n",
       "    </tr>\n",
       "    <tr>\n",
       "      <th>2015-05-21 00:00:00+00:00</th>\n",
       "      <td>47.280</td>\n",
       "      <td>47.600</td>\n",
       "      <td>47.005</td>\n",
       "      <td>47.420</td>\n",
       "      <td>18679997.0</td>\n",
       "      <td>47.420</td>\n",
       "    </tr>\n",
       "    <tr>\n",
       "      <th>2015-05-22 00:00:00+00:00</th>\n",
       "      <td>47.300</td>\n",
       "      <td>47.350</td>\n",
       "      <td>46.820</td>\n",
       "      <td>46.900</td>\n",
       "      <td>21500514.0</td>\n",
       "      <td>46.900</td>\n",
       "    </tr>\n",
       "    <tr>\n",
       "      <th>2015-05-26 00:00:00+00:00</th>\n",
       "      <td>46.830</td>\n",
       "      <td>46.880</td>\n",
       "      <td>46.190</td>\n",
       "      <td>46.600</td>\n",
       "      <td>25219693.0</td>\n",
       "      <td>46.600</td>\n",
       "    </tr>\n",
       "    <tr>\n",
       "      <th>2015-05-27 00:00:00+00:00</th>\n",
       "      <td>46.820</td>\n",
       "      <td>47.770</td>\n",
       "      <td>46.620</td>\n",
       "      <td>47.620</td>\n",
       "      <td>22291914.0</td>\n",
       "      <td>47.620</td>\n",
       "    </tr>\n",
       "    <tr>\n",
       "      <th>2015-05-28 00:00:00+00:00</th>\n",
       "      <td>47.500</td>\n",
       "      <td>48.020</td>\n",
       "      <td>47.390</td>\n",
       "      <td>47.450</td>\n",
       "      <td>16527053.0</td>\n",
       "      <td>47.450</td>\n",
       "    </tr>\n",
       "    <tr>\n",
       "      <th>2015-05-29 00:00:00+00:00</th>\n",
       "      <td>47.430</td>\n",
       "      <td>47.570</td>\n",
       "      <td>46.590</td>\n",
       "      <td>46.860</td>\n",
       "      <td>25462536.0</td>\n",
       "      <td>46.860</td>\n",
       "    </tr>\n",
       "    <tr>\n",
       "      <th>2015-06-01 00:00:00+00:00</th>\n",
       "      <td>47.060</td>\n",
       "      <td>47.770</td>\n",
       "      <td>46.620</td>\n",
       "      <td>47.240</td>\n",
       "      <td>24322867.0</td>\n",
       "      <td>47.240</td>\n",
       "    </tr>\n",
       "  </tbody>\n",
       "</table>\n",
       "<p>857 rows × 6 columns</p>\n",
       "</div>"
      ],
      "text/plain": [
       "                           open_price    high     low  close_price  \\\n",
       "2012-01-03 00:00:00+00:00      24.065  24.436  23.920       24.319   \n",
       "2012-01-04 00:00:00+00:00      24.309  24.899  24.273       24.826   \n",
       "2012-01-05 00:00:00+00:00      24.817  25.133  24.736       25.080   \n",
       "2012-01-06 00:00:00+00:00      24.953  25.551  24.949       25.488   \n",
       "2012-01-09 00:00:00+00:00      25.424  25.470  25.125       25.143   \n",
       "2012-01-10 00:00:00+00:00      25.316  25.515  25.152       25.234   \n",
       "2012-01-11 00:00:00+00:00      24.862  25.361  24.808       25.125   \n",
       "2012-01-12 00:00:00+00:00      25.261  25.397  25.057       25.379   \n",
       "2012-01-13 00:00:00+00:00      25.316  25.606  25.189       25.606   \n",
       "2012-01-17 00:00:00+00:00      25.742  25.968  25.533       25.615   \n",
       "2012-01-18 00:00:00+00:00      25.660  25.742  25.352       25.588   \n",
       "2012-01-19 00:00:00+00:00      25.524  25.773  25.406       25.497   \n",
       "2012-01-20 00:00:00+00:00      26.122  26.956  26.059       26.929   \n",
       "2012-01-23 00:00:00+00:00      26.784  27.147  26.603       26.947   \n",
       "2012-01-24 00:00:00+00:00      26.711  26.802  26.449       26.594   \n",
       "2012-01-25 00:00:00+00:00      26.349  26.875  26.349       26.802   \n",
       "2012-01-26 00:00:00+00:00      26.838  26.920  26.648       26.748   \n",
       "2012-01-27 00:00:00+00:00      26.693  26.766  26.440       26.485   \n",
       "2012-01-30 00:00:00+00:00      26.258  26.847  26.131       26.838   \n",
       "2012-01-31 00:00:00+00:00      26.884  26.920  26.494       26.775   \n",
       "2012-02-01 00:00:00+00:00      27.002  27.237  26.974       27.092   \n",
       "2012-02-02 00:00:00+00:00      27.101  27.346  26.929       27.142   \n",
       "2012-02-03 00:00:00+00:00      27.319  27.554  27.273       27.391   \n",
       "2012-02-06 00:00:00+00:00      27.228  27.391  27.165       27.373   \n",
       "2012-02-07 00:00:00+00:00      27.328  27.631  27.237       27.518   \n",
       "2012-02-08 00:00:00+00:00      27.428  27.799  27.391       27.790   \n",
       "2012-02-09 00:00:00+00:00      27.808  27.917  27.627       27.890   \n",
       "2012-02-10 00:00:00+00:00      27.772  27.917  27.518       27.622   \n",
       "2012-02-13 00:00:00+00:00      27.763  27.890  27.582       27.699   \n",
       "2012-02-14 00:00:00+00:00      27.672  27.791  27.234       27.599   \n",
       "...                               ...     ...     ...          ...   \n",
       "2015-04-20 00:00:00+00:00      41.461  42.891  41.411       42.623   \n",
       "2015-04-21 00:00:00+00:00      42.722  42.871  42.255       42.365   \n",
       "2015-04-22 00:00:00+00:00      42.394  42.852  42.275       42.702   \n",
       "2015-04-23 00:00:00+00:00      42.613  43.328  42.524       43.070   \n",
       "2015-04-24 00:00:00+00:00      45.365  47.829  45.355       47.561   \n",
       "2015-04-27 00:00:00+00:00      46.925  47.819  46.915       47.720   \n",
       "2015-04-28 00:00:00+00:00      47.471  48.892  47.392       48.843   \n",
       "2015-04-29 00:00:00+00:00      48.405  48.992  48.187       48.733   \n",
       "2015-04-30 00:00:00+00:00      48.386  49.220  48.286       48.346   \n",
       "2015-05-01 00:00:00+00:00      48.266  48.559  48.087       48.336   \n",
       "2015-05-04 00:00:00+00:00      48.058  48.554  47.869       47.929   \n",
       "2015-05-05 00:00:00+00:00      47.511  47.849  47.005       47.303   \n",
       "2015-05-06 00:00:00+00:00      47.263  47.462  45.723       45.991   \n",
       "2015-05-07 00:00:00+00:00      45.971  46.781  45.862       46.398   \n",
       "2015-05-08 00:00:00+00:00      47.243  47.670  47.213       47.412   \n",
       "2015-05-11 00:00:00+00:00      47.243  47.601  47.064       47.064   \n",
       "2015-05-12 00:00:00+00:00      46.547  47.372  46.120       47.054   \n",
       "2015-05-13 00:00:00+00:00      47.879  48.008  47.263       47.322   \n",
       "2015-05-14 00:00:00+00:00      47.720  48.505  47.720       48.405   \n",
       "2015-05-15 00:00:00+00:00      48.554  48.589  47.740       47.988   \n",
       "2015-05-18 00:00:00+00:00      47.670  47.909  47.303       47.700   \n",
       "2015-05-19 00:00:00+00:00      47.560  47.810  47.180       47.580   \n",
       "2015-05-20 00:00:00+00:00      47.390  47.930  47.270       47.580   \n",
       "2015-05-21 00:00:00+00:00      47.280  47.600  47.005       47.420   \n",
       "2015-05-22 00:00:00+00:00      47.300  47.350  46.820       46.900   \n",
       "2015-05-26 00:00:00+00:00      46.830  46.880  46.190       46.600   \n",
       "2015-05-27 00:00:00+00:00      46.820  47.770  46.620       47.620   \n",
       "2015-05-28 00:00:00+00:00      47.500  48.020  47.390       47.450   \n",
       "2015-05-29 00:00:00+00:00      47.430  47.570  46.590       46.860   \n",
       "2015-06-01 00:00:00+00:00      47.060  47.770  46.620       47.240   \n",
       "\n",
       "                                volume   price  \n",
       "2012-01-03 00:00:00+00:00   60891291.0  24.319  \n",
       "2012-01-04 00:00:00+00:00   76534029.0  24.826  \n",
       "2012-01-05 00:00:00+00:00   53479335.0  25.080  \n",
       "2012-01-06 00:00:00+00:00   91671771.0  25.488  \n",
       "2012-01-09 00:00:00+00:00   56352965.0  25.143  \n",
       "2012-01-10 00:00:00+00:00   54223945.0  25.234  \n",
       "2012-01-11 00:00:00+00:00   62855941.0  25.125  \n",
       "2012-01-12 00:00:00+00:00   46186121.0  25.379  \n",
       "2012-01-13 00:00:00+00:00   55326851.0  25.606  \n",
       "2012-01-17 00:00:00+00:00   66537766.0  25.615  \n",
       "2012-01-18 00:00:00+00:00   60912302.0  25.588  \n",
       "2012-01-19 00:00:00+00:00   66169544.0  25.497  \n",
       "2012-01-20 00:00:00+00:00  157989713.0  26.929  \n",
       "2012-01-23 00:00:00+00:00   70185739.0  26.947  \n",
       "2012-01-24 00:00:00+00:00   48606276.0  26.594  \n",
       "2012-01-25 00:00:00+00:00   55871304.0  26.802  \n",
       "2012-01-26 00:00:00+00:00   46229333.0  26.748  \n",
       "2012-01-27 00:00:00+00:00   41452599.0  26.485  \n",
       "2012-01-30 00:00:00+00:00   46520829.0  26.838  \n",
       "2012-01-31 00:00:00+00:00   40812893.0  26.775  \n",
       "2012-02-01 00:00:00+00:00   64067228.0  27.092  \n",
       "2012-02-02 00:00:00+00:00   49959760.0  27.142  \n",
       "2012-02-03 00:00:00+00:00   38728694.0  27.391  \n",
       "2012-02-06 00:00:00+00:00   26067704.0  27.373  \n",
       "2012-02-07 00:00:00+00:00   36751791.0  27.518  \n",
       "2012-02-08 00:00:00+00:00   47382414.0  27.790  \n",
       "2012-02-09 00:00:00+00:00   45580004.0  27.890  \n",
       "2012-02-10 00:00:00+00:00   38526519.0  27.622  \n",
       "2012-02-13 00:00:00+00:00   31447419.0  27.699  \n",
       "2012-02-14 00:00:00+00:00   50770567.0  27.599  \n",
       "...                                ...     ...  \n",
       "2015-04-20 00:00:00+00:00   38568282.0  42.623  \n",
       "2015-04-21 00:00:00+00:00   22952534.0  42.365  \n",
       "2015-04-22 00:00:00+00:00   21182014.0  42.702  \n",
       "2015-04-23 00:00:00+00:00   37178490.0  43.070  \n",
       "2015-04-24 00:00:00+00:00  114396800.0  47.561  \n",
       "2015-04-27 00:00:00+00:00   52844498.0  47.720  \n",
       "2015-04-28 00:00:00+00:00   53637731.0  48.843  \n",
       "2015-04-29 00:00:00+00:00   43326023.0  48.733  \n",
       "2015-04-30 00:00:00+00:00   56865088.0  48.346  \n",
       "2015-05-01 00:00:00+00:00   32389494.0  48.336  \n",
       "2015-05-04 00:00:00+00:00   30328340.0  47.929  \n",
       "2015-05-05 00:00:00+00:00   45944460.0  47.303  \n",
       "2015-05-06 00:00:00+00:00   47535797.0  45.991  \n",
       "2015-05-07 00:00:00+00:00   27047479.0  46.398  \n",
       "2015-05-08 00:00:00+00:00   27844465.0  47.412  \n",
       "2015-05-11 00:00:00+00:00   17346165.0  47.064  \n",
       "2015-05-12 00:00:00+00:00   24031639.0  47.054  \n",
       "2015-05-13 00:00:00+00:00   28548931.0  47.322  \n",
       "2015-05-14 00:00:00+00:00   26847365.0  48.405  \n",
       "2015-05-15 00:00:00+00:00   23411783.0  47.988  \n",
       "2015-05-18 00:00:00+00:00   20390841.0  47.700  \n",
       "2015-05-19 00:00:00+00:00   22462876.0  47.580  \n",
       "2015-05-20 00:00:00+00:00   18413349.0  47.580  \n",
       "2015-05-21 00:00:00+00:00   18679997.0  47.420  \n",
       "2015-05-22 00:00:00+00:00   21500514.0  46.900  \n",
       "2015-05-26 00:00:00+00:00   25219693.0  46.600  \n",
       "2015-05-27 00:00:00+00:00   22291914.0  47.620  \n",
       "2015-05-28 00:00:00+00:00   16527053.0  47.450  \n",
       "2015-05-29 00:00:00+00:00   25462536.0  46.860  \n",
       "2015-06-01 00:00:00+00:00   24322867.0  47.240  \n",
       "\n",
       "[857 rows x 6 columns]"
      ]
     },
     "execution_count": 56,
     "metadata": {},
     "output_type": "execute_result"
    }
   ],
   "source": [
    "data"
   ]
  },
  {
   "cell_type": "markdown",
   "metadata": {},
   "source": [
    "This is a pandas dataframe, so we can index in to just get price like this. For more info on pandas, please [click here](http://pandas.pydata.org/pandas-docs/stable/10min.html)."
   ]
  },
  {
   "cell_type": "code",
   "execution_count": null,
   "metadata": {},
   "outputs": [],
   "source": [
    "X = data['price']"
   ]
  },
  {
   "cell_type": "markdown",
   "metadata": {},
   "source": [
    "Because there is now also date information in our data, we provide two series to `.plot`. `X.index` gives us the datetime index, and `X.values` gives us the pricing values. These are used as the X and Y coordinates to make a graph."
   ]
  },
  {
   "cell_type": "code",
   "execution_count": null,
   "metadata": {},
   "outputs": [],
   "source": [
    "plt.plot(X.index, X.values)\n",
    "plt.ylabel('Price')\n",
    "plt.legend(['MSFT']);"
   ]
  },
  {
   "cell_type": "markdown",
   "metadata": {},
   "source": [
    "We can get statistics again on real data."
   ]
  },
  {
   "cell_type": "code",
   "execution_count": null,
   "metadata": {},
   "outputs": [],
   "source": [
    "np.mean(X)"
   ]
  },
  {
   "cell_type": "code",
   "execution_count": null,
   "metadata": {},
   "outputs": [],
   "source": [
    "np.std(X)"
   ]
  },
  {
   "cell_type": "markdown",
   "metadata": {},
   "source": [
    "##Getting Returns from Prices\n",
    "\n",
    "We can use the `pct_change` function to get returns. Notice how we drop the first element after doing this, as it will be `NaN` (nothing -> something results in a NaN percent change)."
   ]
  },
  {
   "cell_type": "code",
   "execution_count": null,
   "metadata": {},
   "outputs": [],
   "source": [
    "R = X.pct_change()[1:]"
   ]
  },
  {
   "cell_type": "markdown",
   "metadata": {},
   "source": [
    "We can plot the returns distribution as a histogram."
   ]
  },
  {
   "cell_type": "code",
   "execution_count": null,
   "metadata": {},
   "outputs": [],
   "source": [
    "plt.hist(R, bins=20)\n",
    "plt.xlabel('Return')\n",
    "plt.ylabel('Frequency')\n",
    "plt.legend(['MSFT Returns']);"
   ]
  },
  {
   "cell_type": "markdown",
   "metadata": {},
   "source": [
    "Get statistics again."
   ]
  },
  {
   "cell_type": "code",
   "execution_count": null,
   "metadata": {},
   "outputs": [],
   "source": [
    "np.mean(R)"
   ]
  },
  {
   "cell_type": "code",
   "execution_count": null,
   "metadata": {},
   "outputs": [],
   "source": [
    "np.std(R)"
   ]
  },
  {
   "cell_type": "markdown",
   "metadata": {},
   "source": [
    "Now let's go backwards and generate data out of a normal distribution using the statistics we estimated from Microsoft's returns. We'll see that we have good reason to suspect Microsoft's returns may not be normal, as the resulting normal distribution looks far different."
   ]
  },
  {
   "cell_type": "code",
   "execution_count": null,
   "metadata": {},
   "outputs": [],
   "source": [
    "plt.hist(np.random.normal(np.mean(R), np.std(R), 10000), bins=20)\n",
    "plt.xlabel('Return')\n",
    "plt.ylabel('Frequency')\n",
    "plt.legend(['Normally Distributed Returns']);"
   ]
  },
  {
   "cell_type": "markdown",
   "metadata": {},
   "source": [
    "##Generating a Moving Average\n",
    "\n",
    "`pandas` has some nice tools to allow us to generate rolling statistics. Here's an example. Notice how there's no moving average for the first 60 days, as we don't have 60 days of data on which to generate the statistic."
   ]
  },
  {
   "cell_type": "code",
   "execution_count": null,
   "metadata": {},
   "outputs": [],
   "source": [
    "# Take the average of the last 60 days at each timepoint.\n",
    "MAVG = pd.rolling_mean(X, window=60)\n",
    "plt.plot(X.index, X.values)\n",
    "plt.plot(MAVG.index, MAVG.values)\n",
    "plt.ylabel('Price')\n",
    "plt.legend(['MSFT', '60-day MAVG']);"
   ]
  },
  {
   "cell_type": "markdown",
   "metadata": {},
   "source": [
    "This presentation is for informational purposes only and does not constitute an offer to sell, a solicitation to buy, or a recommendation for any security; nor does it constitute an offer to provide investment advisory or other services by Quantopian, Inc. (\"Quantopian\"). Nothing contained herein constitutes investment advice or offers any opinion with respect to the suitability of any security, and any views expressed herein should not be taken as advice to buy, sell, or hold any security or as an endorsement of any security or company. In preparing the information contained herein, Quantopian, Inc. has not taken into account the investment needs, objectives, and financial circumstances of any particular investor. Any views expressed and data illustrated herein were prepared based upon information, believed to be reliable, available to Quantopian, Inc. at the time of publication. Quantopian makes no guarantees as to their accuracy or completeness. All information is subject to change and may quickly become unreliable for various reasons, including changes in market conditions or economic circumstances."
   ]
  }
 ],
 "metadata": {
  "kernelspec": {
   "display_name": "Python 2.7 (deprecated)",
   "language": "python",
   "name": "python2"
  },
  "language_info": {
   "codemirror_mode": {
    "name": "ipython",
    "version": 2
   },
   "file_extension": ".py",
   "mimetype": "text/x-python",
   "name": "python",
   "nbconvert_exporter": "python",
   "pygments_lexer": "ipython2",
   "version": "2.7.17"
  }
 },
 "nbformat": 4,
 "nbformat_minor": 1
}